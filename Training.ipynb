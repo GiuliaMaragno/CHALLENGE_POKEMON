{
 "cells": [
  {
   "cell_type": "code",
   "execution_count": null,
   "metadata": {},
   "outputs": [],
   "source": [
    "!pip install numpy\n",
    "!pip install pandas\n",
    "!pip install matplotlib\n",
    "!pip install seaborn\n",
    "!pip install sklearn"
   ]
  },
  {
   "cell_type": "markdown",
   "metadata": {},
   "source": [
    "# IMPORTO LE LIBRERIE PRINCIPALI"
   ]
  },
  {
   "cell_type": "code",
   "execution_count": null,
   "metadata": {},
   "outputs": [],
   "source": [
    "import numpy as np\n",
    "import pandas as pd\n",
    "from sklearn.model_selection import train_test_split \n",
    "import matplotlib.pyplot as plt\n",
    "import seaborn as sns\n",
    "from sklearn.metrics import plot_confusion_matrix, classification_report\n",
    "from sklearn.metrics import accuracy_score\n",
    "from sklearn.ensemble import RandomForestClassifier\n",
    "\n",
    "\n"
   ]
  },
  {
   "cell_type": "markdown",
   "metadata": {},
   "source": [
    "# MI LEGGO I VARI FILE CHE SONO DI SUPPORTO"
   ]
  },
  {
   "cell_type": "code",
   "execution_count": null,
   "metadata": {},
   "outputs": [],
   "source": [
    "train=pd.read_csv('train.csv')"
   ]
  },
  {
   "cell_type": "code",
   "execution_count": null,
   "metadata": {},
   "outputs": [],
   "source": [
    "test=pd.read_csv('test.csv')"
   ]
  },
  {
   "cell_type": "code",
   "execution_count": null,
   "metadata": {},
   "outputs": [],
   "source": [
    "pokemon=pd.read_csv('pokemon.csv')"
   ]
  },
  {
   "cell_type": "markdown",
   "metadata": {},
   "source": [
    "# DO UNA RAPIDA OCCHIATA AL DATASET"
   ]
  },
  {
   "cell_type": "code",
   "execution_count": null,
   "metadata": {},
   "outputs": [],
   "source": [
    "pokemon"
   ]
  },
  {
   "cell_type": "code",
   "execution_count": null,
   "metadata": {},
   "outputs": [],
   "source": [
    "train.head()\n"
   ]
  },
  {
   "cell_type": "code",
   "execution_count": null,
   "metadata": {},
   "outputs": [],
   "source": [
    "test.head()"
   ]
  },
  {
   "cell_type": "markdown",
   "metadata": {},
   "source": [
    "# CONVERTO I VALORI DI WINNER:\n",
    "- SE VINCE IL PRIMO VALE 1 \n",
    "- SE VINCE IL SECONDO VALE 0"
   ]
  },
  {
   "cell_type": "code",
   "execution_count": null,
   "metadata": {},
   "outputs": [],
   "source": [
    "def conv_bin_winner(winner, first_pokemon, second_pokemon):\n",
    "    if (first_pokemon == winner):\n",
    "        return 1\n",
    "    elif (second_pokemon == winner):\n",
    "        return 0\n"
   ]
  },
  {
   "cell_type": "code",
   "execution_count": null,
   "metadata": {},
   "outputs": [],
   "source": [
    "train['Winner']= train.apply(lambda x: conv_bin_winner(x['Winner'], x['First_pokemon'], x['Second_pokemon']), axis=1)\n",
    "test['Winner']= test.apply(lambda x: conv_bin_winner(x['Winner'], x['First_pokemon'], x['Second_pokemon']), axis=1)"
   ]
  },
  {
   "cell_type": "markdown",
   "metadata": {},
   "source": [
    "# INSERISCO TRAIN E TEST IN UN UNICO DATASET \n",
    "IN CUI HO UNA COLONNA CHIAMATA TRAIN IL CUI VALORE VALE 1 SE IL RECORD E' PRESENTE NEL TRAIN, 0 SE IL RECORD E' PRESENTE NEL TEST"
   ]
  },
  {
   "cell_type": "code",
   "execution_count": null,
   "metadata": {},
   "outputs": [],
   "source": [
    "train[\"train\"]=1\n",
    "test[\"train\"]=0\n",
    "dataset=pd.concat([train, test], ignore_index=True)"
   ]
  },
  {
   "cell_type": "code",
   "execution_count": null,
   "metadata": {},
   "outputs": [],
   "source": [
    "dataset['train']"
   ]
  },
  {
   "cell_type": "code",
   "execution_count": null,
   "metadata": {},
   "outputs": [],
   "source": [
    "list(dataset)"
   ]
  },
  {
   "cell_type": "code",
   "execution_count": null,
   "metadata": {},
   "outputs": [],
   "source": [
    "pokemon.info()"
   ]
  },
  {
   "cell_type": "markdown",
   "metadata": {},
   "source": [
    "# ESEGUO UN MERGE FRA IL DATASET \"POKEMON\" E IL DATASET \"DATASET\""
   ]
  },
  {
   "cell_type": "code",
   "execution_count": null,
   "metadata": {},
   "outputs": [],
   "source": [
    "joined_data= dataset.join(pokemon.set_index('#'), on ='First_pokemon', rsuffix=\"_first\")"
   ]
  },
  {
   "cell_type": "code",
   "execution_count": null,
   "metadata": {},
   "outputs": [],
   "source": [
    "joined_data= joined_data.join(pokemon.set_index('#'), on ='Second_pokemon', rsuffix=\"_second\")"
   ]
  },
  {
   "cell_type": "markdown",
   "metadata": {},
   "source": [
    "# VEDO TUTTE LE FEATURES\n"
   ]
  },
  {
   "cell_type": "code",
   "execution_count": null,
   "metadata": {},
   "outputs": [],
   "source": [
    "list(joined_data)"
   ]
  },
  {
   "cell_type": "markdown",
   "metadata": {},
   "source": [
    "### MI STAMPO LA QUANTITA' DEI VALORI CHE ASSUMONO LE VARIE FEATURES"
   ]
  },
  {
   "cell_type": "code",
   "execution_count": null,
   "metadata": {},
   "outputs": [],
   "source": [
    "for c in joined_data.columns:\n",
    "    print (\"Features: \", c)\n",
    "    print(joined_data[c].value_counts())\n",
    "    print(\"\\n*****************\\n\")"
   ]
  },
  {
   "cell_type": "markdown",
   "metadata": {},
   "source": [
    "# VERIFICO SE CI SONO DEI VALORI MANCANTI ALL'INTERNO DEL DATASET"
   ]
  },
  {
   "cell_type": "code",
   "execution_count": null,
   "metadata": {},
   "outputs": [],
   "source": [
    "joined_data.info()"
   ]
  },
  {
   "cell_type": "markdown",
   "metadata": {},
   "source": [
    "# VALORI MANCANTI\n",
    "- Name\n",
    "- Name_second\n",
    "- Type 2 \n",
    "- Type 2_second"
   ]
  },
  {
   "cell_type": "code",
   "execution_count": null,
   "metadata": {},
   "outputs": [],
   "source": [
    "print(joined_data.isnull().sum())"
   ]
  },
  {
   "cell_type": "markdown",
   "metadata": {},
   "source": [
    "# Type2 ha molti valori mancanti!\n",
    "quasi la metà considerando che i recordo sono 40000, potrei pensare di dropparla, ma dato che il tipo è una feature che dovrebbe essere rilevante nei Pokemon ai fini della sfida, portei pensare di mettere al posto del valore mancante di Type2 il valore di Type1 "
   ]
  },
  {
   "cell_type": "code",
   "execution_count": null,
   "metadata": {},
   "outputs": [],
   "source": [
    "joined_data['Type 2'].fillna(joined_data['Type 1'],inplace=True)\n",
    "joined_data['Type 2_second'].fillna(joined_data['Type 1_second'],inplace=True)"
   ]
  },
  {
   "cell_type": "markdown",
   "metadata": {},
   "source": [
    "# \"NAME\"  DATO CHE E' UNICA SI PUO' DROPPARE"
   ]
  },
  {
   "cell_type": "code",
   "execution_count": null,
   "metadata": {},
   "outputs": [],
   "source": [
    "print(joined_data.isnull().sum())"
   ]
  },
  {
   "cell_type": "code",
   "execution_count": null,
   "metadata": {},
   "outputs": [],
   "source": [
    "len(pokemon['Name'].unique())"
   ]
  },
  {
   "cell_type": "code",
   "execution_count": null,
   "metadata": {},
   "outputs": [],
   "source": [
    "toDrop = ['Name', 'Name_second']\n",
    "joined_data = joined_data.drop(toDrop, axis=1)"
   ]
  },
  {
   "cell_type": "markdown",
   "metadata": {},
   "source": [
    "### MOSTRO IL DATASET IN CUI HO DROPPATO LA FEATURE 'NAME' E HO INSERITO DENTRO AL TYPE2 IL VALORE DEL TYPE1 QUANDO IL TYPE2 MANCAVA"
   ]
  },
  {
   "cell_type": "code",
   "execution_count": null,
   "metadata": {},
   "outputs": [],
   "source": [
    "joined_data.head()"
   ]
  },
  {
   "cell_type": "markdown",
   "metadata": {},
   "source": [
    "##  Encoding: i modelli ragionano in termini di NUMERI e non di stringhe. \n",
    "## Per questo motivo, bisogna convertire i campi object/bool in numeri."
   ]
  },
  {
   "cell_type": "code",
   "execution_count": null,
   "metadata": {},
   "outputs": [],
   "source": [
    "# modifico alcuni nomi delle feature per comodità"
   ]
  },
  {
   "cell_type": "code",
   "execution_count": null,
   "metadata": {},
   "outputs": [],
   "source": [
    "joined_data.rename(columns={'Type 2':'Type2'},inplace=True)\n",
    "joined_data.rename(columns={'Type 1':'Type1'},inplace=True)"
   ]
  },
  {
   "cell_type": "code",
   "execution_count": null,
   "metadata": {},
   "outputs": [],
   "source": [
    "joined_data.rename(columns={'Type 1_second':'Type1_second'},inplace=True)\n",
    "joined_data.rename(columns={'Type 2_second':'Type2_second'},inplace=True)\n",
    "joined_data.rename(columns={'Sp. Atk':'Sp_Atk'},inplace=True)\n",
    "joined_data.rename(columns={'Sp. Def':'Sp_Def'},inplace=True)\n",
    "joined_data.rename(columns={'Sp. Atk_second':'Sp_Atk_second'},inplace=True)\n",
    "joined_data.rename(columns={'Sp. Def_second':'Sp_Def_second'},inplace=True)"
   ]
  },
  {
   "cell_type": "code",
   "execution_count": null,
   "metadata": {},
   "outputs": [],
   "source": [
    "joined_data.dtypes"
   ]
  },
  {
   "cell_type": "markdown",
   "metadata": {},
   "source": [
    "## i tipi da convertire sono:\n",
    "- Type1\n",
    "- Type2\n",
    "- Type1_second\n",
    "- Type2_second\n",
    "- Legendary\n",
    "- Legendary_second\n"
   ]
  },
  {
   "cell_type": "code",
   "execution_count": null,
   "metadata": {},
   "outputs": [],
   "source": [
    "from sklearn.preprocessing import LabelEncoder\n",
    "Feature = [\"Type1\", \"Type2\", \"Type1_second\",\"Type2_second\", \"Legendary\",\"Legendary_second\"]\n",
    "labelEncoder_X = LabelEncoder()\n",
    "for element in Feature:\n",
    "    joined_data[element] = labelEncoder_X.fit_transform(joined_data[element])\n",
    "    \n",
    "joined_data.head()"
   ]
  },
  {
   "cell_type": "markdown",
   "metadata": {},
   "source": [
    "# RIDIVIDO IL DATASET TOTALE IN TRAIN E TEST SULLA BASE DELLA DIVISIONE EFFETTUATA NEL PREPARATION"
   ]
  },
  {
   "cell_type": "code",
   "execution_count": null,
   "metadata": {},
   "outputs": [],
   "source": [
    "train= joined_data[joined_data.train == 1].drop(\"train\", axis=1)\n",
    "test= joined_data[joined_data.train == 0].drop(\"train\", axis=1)"
   ]
  },
  {
   "cell_type": "markdown",
   "metadata": {},
   "source": [
    "# Mi stampo una heatmap che mi guarda quale sia la correlazione che ho fra le feature:\n",
    "- valore negativo -> relazione di proporzionalità inversa\n",
    "- valore positivo -> relazione di proporzionalità diretta\n",
    "- valore pari a zero-> no correlazione (feature può essere eliminata)"
   ]
  },
  {
   "cell_type": "code",
   "execution_count": null,
   "metadata": {},
   "outputs": [],
   "source": [
    "plt.figure(figsize=(18,10))\n",
    "correlation = train.corr()\n",
    "sns.heatmap(correlation, annot = True, linewidth = 2)"
   ]
  },
  {
   "cell_type": "markdown",
   "metadata": {},
   "source": [
    "Dalla heatmap vediamo che le seguenti feature non sono utili per il nostro scopo:\n",
    "- First_Pokemon\n",
    "- Second_Pokemon\n",
    "- Type1 \n",
    "- Type2\n",
    "- Defense \n",
    "- Generation\n",
    "- Type1_second \n",
    "- Type2_second\n",
    "- Defense_second\n",
    "- Generation_second\n",
    "\n",
    "Droppo quindi:\n",
    "- First_Pokemon \n",
    "- Second_Pokemon\n",
    "- Type1 \n",
    "- Type2\n",
    "- Type1_second \n",
    "- Type2_second"
   ]
  },
  {
   "cell_type": "code",
   "execution_count": null,
   "metadata": {},
   "outputs": [],
   "source": [
    "toDrop = ['First_pokemon','Second_pokemon','Type1', 'Type2','Type1_second', 'Type2_second']\n",
    "train = train.drop(toDrop, axis=1)"
   ]
  },
  {
   "cell_type": "code",
   "execution_count": null,
   "metadata": {},
   "outputs": [],
   "source": [
    "toDrop = ['First_pokemon','Second_pokemon','Type1', 'Type2','Type1_second', 'Type2_second' ]\n",
    "test = test.drop(toDrop, axis=1)"
   ]
  },
  {
   "cell_type": "markdown",
   "metadata": {},
   "source": [
    "## Mi stampo un grafico che mostra quanti e come sono distribuiti i valori per Winner nel dataset \n",
    "\n",
    "# WINNER=1 --> vince il primo\n",
    "# WINNER=0 --> vince il secondo"
   ]
  },
  {
   "cell_type": "code",
   "execution_count": null,
   "metadata": {},
   "outputs": [],
   "source": [
    "sns.countplot(x=train['Winner'])"
   ]
  },
  {
   "cell_type": "code",
   "execution_count": null,
   "metadata": {},
   "outputs": [],
   "source": [
    "sns.countplot(x=test['Winner'])"
   ]
  },
  {
   "cell_type": "markdown",
   "metadata": {},
   "source": [
    "#### Notiamo che i valori sono distribuiti in maniera abbastanza omogenea sia nel dataset di train sia nel dataset di test sembrerebbe inoltre che chi attacca per secondo tende a vincere leggermente di più"
   ]
  },
  {
   "cell_type": "markdown",
   "metadata": {},
   "source": [
    "# Vedo se si può assumere da questi grafici l'importanza di alcune feature del dataset"
   ]
  },
  {
   "cell_type": "markdown",
   "metadata": {},
   "source": [
    "### - Generation"
   ]
  },
  {
   "cell_type": "code",
   "execution_count": null,
   "metadata": {},
   "outputs": [],
   "source": [
    "sns.countplot(x=train[\"Generation\"],hue=train[\"Winner\"]);"
   ]
  },
  {
   "cell_type": "markdown",
   "metadata": {},
   "source": [
    "#### La feature Generation sembrerebbe superflua.  POICHE' I VALORI CHE ASSUMONO WINNER=0 E WINNER=1 SONO PARAGONABILI"
   ]
  },
  {
   "cell_type": "markdown",
   "metadata": {},
   "source": [
    "### - SPEED"
   ]
  },
  {
   "cell_type": "code",
   "execution_count": null,
   "metadata": {},
   "outputs": [],
   "source": [
    "plt.figure(figsize=(30,30))\n",
    "sns.countplot(x=train[\"Speed\"],hue=train[\"Winner\"]);"
   ]
  },
  {
   "cell_type": "markdown",
   "metadata": {},
   "source": [
    "#### Dal grafico di sopra possiamo notare come la distribuzione non sia del tutto omogenea, quindi per capire meglio la relazione:\n",
    "## - Definisco quindi una nuova Feature che mi rappresenta la differenza fra la stats 'Speed' dei due Pokemon"
   ]
  },
  {
   "cell_type": "markdown",
   "metadata": {},
   "source": [
    "### - DIFF_SPEED"
   ]
  },
  {
   "cell_type": "code",
   "execution_count": null,
   "metadata": {},
   "outputs": [],
   "source": [
    "train['diff_Speed']=train['Speed']-train['Speed_second']\n",
    "test['diff_Speed']=test['Speed']-test['Speed_second']"
   ]
  },
  {
   "cell_type": "code",
   "execution_count": null,
   "metadata": {},
   "outputs": [],
   "source": [
    "plt.figure(figsize=(30,30))\n",
    "sns.countplot(x=train[\"diff_Speed\"],hue=train[\"Winner\"]);"
   ]
  },
  {
   "cell_type": "markdown",
   "metadata": {},
   "source": [
    "### DA QUESTO GRAFICO RISULTA MOLTO PIU' EVIDENTE COME CAMBIA WINNER IN BASE ALLA VELOCITA'\n",
    "OVVERO I POKEMON CHE POSSIEDONO VELOCITA' PIU ALTE TENDONO A VINCERE. \n",
    "- INFATTI DIFFERENZA POSITIVA VUOL DIRE CHE IL PRIMO E' PIU' VELOCE DEL SECONDO -> VINCE IL PRIMO, E INFATTI WINNER=1\n",
    "- INVECE DIFFERENZA NEGATIVA VUOL DIRE CHE IL SECONDO E' PIU' VELOCE DEL PRIMO -> VINCE IL SECONDO, E INFATTI WINNER=0"
   ]
  },
  {
   "cell_type": "markdown",
   "metadata": {},
   "source": [
    "### -HP"
   ]
  },
  {
   "cell_type": "code",
   "execution_count": null,
   "metadata": {},
   "outputs": [],
   "source": [
    "plt.figure(figsize=(50,50))\n",
    "sns.countplot(x=train[\"HP\"],hue=train[\"Winner\"]);"
   ]
  },
  {
   "cell_type": "markdown",
   "metadata": {},
   "source": [
    "DA QUESTO GRAFICO SEMBREREBBE CHE HP NON SIA COSI' TANTO UTILE IN MOLTI PUNTI I WINNER=0 O I WINNER=1 SONO PARAGONABILI.\n",
    "\n",
    "PROVO QUINDI A DEFINIRE UNA NUOVA FEATURE CHE MI RAPPRESENTA LA DIFFERENZA FRA HP DEL POKEMON1 E LA HP DEL POKEMON 2"
   ]
  },
  {
   "cell_type": "markdown",
   "metadata": {},
   "source": [
    "### -DIFF_HP"
   ]
  },
  {
   "cell_type": "code",
   "execution_count": null,
   "metadata": {},
   "outputs": [],
   "source": [
    "train['diff_HP']=train['HP']-train['HP_second']\n",
    "test['diff_HP']= test['HP']- test['HP_second']"
   ]
  },
  {
   "cell_type": "code",
   "execution_count": null,
   "metadata": {},
   "outputs": [],
   "source": [
    "plt.figure(figsize=(50,50))\n",
    "sns.countplot(x=train[\"diff_HP\"],hue=train[\"Winner\"]);"
   ]
  },
  {
   "cell_type": "markdown",
   "metadata": {},
   "source": [
    "DA QUESTO GRAFICO A PRIMO IMPATTO SEMBREREBBE CHE:\n",
    "- se il pokemon2 ha HP maggiore del pokemon1 vince il 2° \n",
    "- se il pokemon1 ha HP maggiore del pokemon2 vince il 1°\n",
    "\n",
    "\n",
    "Però questa volta non basta avere HP maggiore per vincere, in quanto per valori di HP vicini allo 0 troviamo che il winner sia paragonabile"
   ]
  },
  {
   "cell_type": "markdown",
   "metadata": {},
   "source": [
    "### - ATTACK"
   ]
  },
  {
   "cell_type": "code",
   "execution_count": null,
   "metadata": {},
   "outputs": [],
   "source": [
    "plt.figure(figsize=(50,50))\n",
    "\n",
    "sns.countplot(x=train[\"Attack\"],hue=train[\"Winner\"]);"
   ]
  },
  {
   "cell_type": "markdown",
   "metadata": {},
   "source": [
    "QUESTO GRAFICO COSI' NON SEMBRA ESSERE MOLTO RILEVANTE: \n",
    "\n",
    "\n",
    "VEDIAMO SEMPLICEMENTE CHE I PICCHI SI HANNO, MA PER ALCUNI VALORI DI ATTACO SONO MOLTO PARAGONABILI.\n",
    "\n",
    "\n",
    "QUINDI DEFINISCO UNA FEATURE CHE MI RAPPRESENTA LA DIFFERENZA FRA I DUE ATTACCHI PER PROVARE AD OTTENERE UN QUALCOSA DI PIU' INTERESSANTE"
   ]
  },
  {
   "cell_type": "markdown",
   "metadata": {},
   "source": [
    "### - DIFF_ATTACK"
   ]
  },
  {
   "cell_type": "code",
   "execution_count": null,
   "metadata": {},
   "outputs": [],
   "source": [
    "train['diff_Attack']=train['Attack']-train['Attack_second']\n",
    "test['diff_Attack']=test['Attack']-test['Attack_second']"
   ]
  },
  {
   "cell_type": "code",
   "execution_count": null,
   "metadata": {},
   "outputs": [],
   "source": [
    "plt.figure(figsize=(50,50))\n",
    "sns.countplot(x=train[\"diff_Attack\"],hue=train[\"Winner\"]);"
   ]
  },
  {
   "cell_type": "markdown",
   "metadata": {},
   "source": [
    "DA QUESTO GRAFICO SI EVINCE CHE TENDENZIALMENTE:\n",
    "\n",
    "- ATTACCO 1 MAGGIORE DELL' ATTACCO2--> vince 1\n",
    "- ATTACCO 2 MAGGIORE DELL' ATTACCO1--> vince2\n",
    "- PER DIFFERENZE MOLTO PICCOLE NON SI RIESCE A STABILIRE CON CERTEZZA INFATTI COME POSSIAMO VEDERE IN PROSSIMITA' DELLO 0 SONO MOLTO ALTI SIA WINNER=1 SIA WINNER=0\n"
   ]
  },
  {
   "cell_type": "markdown",
   "metadata": {},
   "source": [
    "### DEFENSE"
   ]
  },
  {
   "cell_type": "code",
   "execution_count": null,
   "metadata": {},
   "outputs": [],
   "source": [
    "plt.figure(figsize=(50,50))\n",
    "sns.countplot(x=train[\"Defense\"],hue=train[\"Winner\"]);"
   ]
  },
  {
   "cell_type": "markdown",
   "metadata": {},
   "source": [
    "I VALORI IN QUESTA DISTRIBUZIONE TRANNE PER ALCUNI PUNTI ISOLATI NON DANNO INFORMAZIONI SIGNIFICATIVE  SONO INFATTI SPESSO MOLTO VICINI I VALORI DI WINNER=0 E I VALORI DI WINNER=1 PER OGNI VALORE DI DIFESA\n",
    "\n",
    "VEDO SE CON LA DIFFERENZA FRA LE DUE DIFESE QUESTA COSA VIENE CONFERMATA"
   ]
  },
  {
   "cell_type": "markdown",
   "metadata": {},
   "source": [
    "### -DIFF_DEFENSE"
   ]
  },
  {
   "cell_type": "code",
   "execution_count": null,
   "metadata": {},
   "outputs": [],
   "source": [
    "train['diff_Defense']=train['Defense']-train['Defense_second']\n",
    "test['diff_Defense']=test['Defense']-test['Defense_second']"
   ]
  },
  {
   "cell_type": "code",
   "execution_count": null,
   "metadata": {},
   "outputs": [],
   "source": [
    "plt.figure(figsize=(50,50))\n",
    "sns.countplot(x=train[\"diff_Defense\"],hue=train[\"Winner\"]);"
   ]
  },
  {
   "cell_type": "markdown",
   "metadata": {},
   "source": [
    "DA QUESTO GRAFICO NON SI PUO' DIRE NULLA  I VALORI DI VINCITA DEL PRIMO E DEL SECONDO SONO STATISTICAMENTE PARAGONABILI QUINDI:\n",
    "#### PROBABILMENTE QUESTA FEATURE PUO' ESSERE DROPPATA"
   ]
  },
  {
   "cell_type": "markdown",
   "metadata": {},
   "source": [
    "### -SP_ATK"
   ]
  },
  {
   "cell_type": "code",
   "execution_count": null,
   "metadata": {},
   "outputs": [],
   "source": [
    "plt.figure(figsize=(200,50))\n",
    "sns.countplot(x=train[\"Sp_Atk\"],hue=train[\"Winner\"]);"
   ]
  },
  {
   "cell_type": "markdown",
   "metadata": {},
   "source": [
    "ANCHE IN QUESTO CASO LA DISTRIBUZIONE DI WINNER TRANNE IN ALCUNI(POCHI) PUNTI SEMBREREBBE PARAGONABILE. \n",
    "VEDO SE OTTENGO UNA CONFERMA DEFINENDO UNA NUOVA FEATURE DIFF_SP_ATK"
   ]
  },
  {
   "cell_type": "markdown",
   "metadata": {},
   "source": [
    "### -DIFF_SP_ATK"
   ]
  },
  {
   "cell_type": "code",
   "execution_count": null,
   "metadata": {},
   "outputs": [],
   "source": [
    "train['diff_Sp_Atk']=train['Sp_Atk']-train['Sp_Atk_second']\n",
    "test['diff_Sp_Atk']=test['Sp_Atk']-test['Sp_Atk_second']"
   ]
  },
  {
   "cell_type": "code",
   "execution_count": null,
   "metadata": {
    "scrolled": true
   },
   "outputs": [],
   "source": [
    "plt.figure(figsize=(200,50))\n",
    "sns.countplot(x=train[\"diff_Sp_Atk\"],hue=train[\"Winner\"]);"
   ]
  },
  {
   "cell_type": "markdown",
   "metadata": {},
   "source": [
    "DA QUESTO GRAFICO NOTIAMO QUALCOSA SULLE DIFFERENZE DI SPECIAL ATTACK:\n",
    "- MOLTO NEGATIVE (SPECIAL ATTACK POKEMON 2 MOLTO MAGGIORE RISPETTO ALLO SPECIAL ATTACK DEL POKEMON 1) VINCE IL SECONDO\n",
    "- MOLTO POSITIVE (SPECIAL ATTACK POKEMON 1 MOLTO MAGGIORE RISPETTO ALLO SPECIAL ATTACK DEL POKEMON 2) VINCE IL PRIMO\n",
    "\n",
    "SE LO SPECIAL ATTACK 1 E' DI POCO MAGGIORE ALLO SPECIAL ATTACK 2 E VICEVERSA NON SI POSSONO FARE ASSUNZIONI\n",
    "\n",
    "NON CI SONO TANTISSIMI POKEMON CHE PRESENTANO UNO SPECIAL ATTACK DI GRAN LUNGA MAGGIORE\n",
    "\n"
   ]
  },
  {
   "cell_type": "markdown",
   "metadata": {},
   "source": [
    "### -SP_DEF"
   ]
  },
  {
   "cell_type": "code",
   "execution_count": null,
   "metadata": {},
   "outputs": [],
   "source": [
    "plt.figure(figsize=(200,50))\n",
    "sns.countplot(x=train[\"Sp_Def\"],hue=train[\"Winner\"]);"
   ]
  },
  {
   "cell_type": "markdown",
   "metadata": {},
   "source": [
    "ANCHE IN QUESTO CASO CI SONO DEI PICCHI NOTIAMO CHE MOLTI POKEMON HANNO COME VALORI DI SPECIAL DEFENSE: \n",
    "- 20;25;30;35;40;45;50;55;60;65;90;95;100;105;110;115;120\n",
    "- SONO POCHI I POKEMON CHE HANNO UNA SPECIAL DEFENSE CON VALORE NON MULTIPLO DI 5\n",
    "- MA SULL'ANDAMENTO DELLE VITTORE DA QUESTO GRAFICO NON SI CAPISCE MOLTO, PERCUI DEFINISCO UNA NUOVA FEATURE DIFF_SP_DEF"
   ]
  },
  {
   "cell_type": "markdown",
   "metadata": {},
   "source": [
    "### -DIFF_SP_DEF"
   ]
  },
  {
   "cell_type": "code",
   "execution_count": null,
   "metadata": {},
   "outputs": [],
   "source": [
    "train['diff_Sp_Def']=train['Sp_Def']-train['Sp_Def_second']\n",
    "test['diff_Sp_Def']=test['Sp_Def']-test['Sp_Def_second']"
   ]
  },
  {
   "cell_type": "code",
   "execution_count": null,
   "metadata": {},
   "outputs": [],
   "source": [
    "plt.figure(figsize=(200,50))\n",
    "sns.countplot(x=train[\"diff_Sp_Def\"],hue=train[\"Winner\"]);"
   ]
  },
  {
   "cell_type": "markdown",
   "metadata": {},
   "source": [
    "ANCHE IN QUESTO CASO PER VALORI VICINO ALLO 0 NON SI PUO' DIRE MOLTO, POSSIAMO NOTARE COME PER DIFFERENZE MOLTO GRANDI SIA CHE ESSE SIANO POSITIVE SIA CHE ESSE SIANO NEGATIVE CI SONO POCHISSIMI DATI, E PER BASSE DIFFERENZE QUINDI QUANDO SP_DEF E' PARAGONABILE FRA I DUE POKEMON NON SI PUO' DIRE MOLTO "
   ]
  },
  {
   "cell_type": "markdown",
   "metadata": {},
   "source": [
    "### -LEGENDARY"
   ]
  },
  {
   "cell_type": "code",
   "execution_count": null,
   "metadata": {},
   "outputs": [],
   "source": [
    "sns.countplot(x=train[\"Legendary\"],hue=train[\"Winner\"]);"
   ]
  },
  {
   "cell_type": "code",
   "execution_count": null,
   "metadata": {},
   "outputs": [],
   "source": [
    "sns.countplot(x=train[\"Legendary_second\"],hue=train[\"Winner\"]);"
   ]
  },
  {
   "cell_type": "markdown",
   "metadata": {},
   "source": [
    "Le features Legendary e Legendary_second invece ci mostrano che i legendari sono MOLTO pochi MA tendono a vincere, mentre per i non legendari sembrerebbe che siano molti."
   ]
  },
  {
   "cell_type": "markdown",
   "metadata": {},
   "source": [
    "# Mi stampo una heatmap che mi guarda quale sia la correlazione che ho fra le feature a seguito dell'aggiunta delle nuove feature che ho generato, e i drop eseguiti in precedenza\n"
   ]
  },
  {
   "cell_type": "code",
   "execution_count": null,
   "metadata": {},
   "outputs": [],
   "source": [
    "plt.figure(figsize=(18,10))\n",
    "correlation = train.corr()\n",
    "sns.heatmap(correlation, annot = True, linewidth = 2)"
   ]
  },
  {
   "cell_type": "markdown",
   "metadata": {},
   "source": [
    "Dalla heatmap vediamo che le seguenti feature non sono utili per il nostro scopo:\n",
    "\n",
    "- Defense (Già confermato in precedenza dal countplot)\n",
    "- Generation (confermato anche questo dal countplot)\n",
    "- Defense_second (confermato anche questo dal countplot)\n",
    "- Generation_second (confermato anche questo dal countplot)\n",
    "- diff_Defense(Già confermato in precedenza dal countplot)\n",
    "\n",
    "\n",
    "Quindi si possono droppare\n",
    "\n",
    "\n",
    "#### Risulta invece che le feature aggiunte riguardanti la differenza fra le varie stats risultano essere abbastanza correlate con la feature Winner\n",
    "\n",
    "\n",
    "\n",
    "\n",
    "\n"
   ]
  },
  {
   "cell_type": "code",
   "execution_count": null,
   "metadata": {},
   "outputs": [],
   "source": [
    "toDrop = ['Defense','Generation', 'Defense_second', 'Generation_second', 'diff_Defense' ]\n",
    "train = train.drop(toDrop, axis=1)"
   ]
  },
  {
   "cell_type": "code",
   "execution_count": null,
   "metadata": {},
   "outputs": [],
   "source": [
    "toDrop = ['Defense','Generation', 'Defense_second', 'Generation_second', 'diff_Defense' ]\n",
    "test = test.drop(toDrop, axis=1)"
   ]
  },
  {
   "cell_type": "code",
   "execution_count": null,
   "metadata": {},
   "outputs": [],
   "source": [
    "plt.figure(figsize=(18,10))\n",
    "correlation = train.corr()\n",
    "sns.heatmap(correlation, annot = True, linewidth = 2)"
   ]
  },
  {
   "cell_type": "markdown",
   "metadata": {},
   "source": [
    "ORA TUTTE LE FEATURE PRESENTANO UNA BUONA CORRELAZIONE CON WINNER"
   ]
  },
  {
   "cell_type": "markdown",
   "metadata": {},
   "source": [
    "### SEPARO LA LABEL DALLE FEATURE "
   ]
  },
  {
   "cell_type": "code",
   "execution_count": null,
   "metadata": {},
   "outputs": [],
   "source": [
    "y_train = train['Winner']          \n",
    "X_train = train.drop(['Winner'], axis=1)      \n",
    "\n",
    "y_test = test['Winner']           \n",
    "X_test = test.drop(['Winner'], axis=1)  \n"
   ]
  },
  {
   "cell_type": "markdown",
   "metadata": {},
   "source": [
    "### RANDOM FOREST"
   ]
  },
  {
   "cell_type": "markdown",
   "metadata": {},
   "source": [
    "L’algoritmo come si può dedurre dal nome, è costituito da un insieme di alberi decisionali.\n",
    "La classificazione delle istanze dei dati si ha muovendosi seguendo gli archi dalla radice (nodo iniziale dell’albero) ad una foglia dell’albero. \n",
    "Quest’ultima rappresenta il risultato predetto a partire dai valori dei vari attributi e quindi la classificazione del dato in input.\n",
    "La caratteristica principale degli alberi decisionali è la loro abilità nello scegliere le features più importanti per poter dividere il set di dati in modo tale che i gruppi risultanti siano più diversi possibili fra di loro e quindi i membri del sottogruppo siano più simili possibili fra loro. \n",
    "Ciascuna regola di predizione è rappresentata dal cammino che va dal nodo radice al nodo foglia.\n",
    "Per quanto riguarda la classificazione ogni singolo albero nella foresta genera una previsione di classe e la classe con maggior numero di voti diventa quindi la previsione del modello. \n",
    "Il vantaggio di avere più alberi decisionali risiede nel fatto che un gran numero di alberi non correlati protegge l’errore effettuato dai singoli alberi, in quanto mentre alcuni alberi potranno avere un output errato molti altri lo avranno corretto, quindi come gruppo gli alberi si muoveranno verso la corretta direzione.\n",
    "In sostanza la maggioranza vince"
   ]
  },
  {
   "cell_type": "code",
   "execution_count": null,
   "metadata": {},
   "outputs": [],
   "source": [
    "randomforest = RandomForestClassifier()\n",
    "randomforest.fit(X_train, y_train)\n",
    "y_pred = randomforest.predict(X_test)\n",
    "acc_randomforest = round(accuracy_score(y_pred, y_test) * 100, 2)\n",
    "print(acc_randomforest)\n",
    "plot_confusion_matrix(randomforest, X_test, y_test, values_format='n', display_labels=['0','1'])\n",
    "print(classification_report(y_test,y_pred))"
   ]
  },
  {
   "cell_type": "markdown",
   "metadata": {},
   "source": [
    "La matrice di confusione riportata qui sopra molstra che per la maggiorparte dei dati la classificazione risulta avvenire correttamente, inoltre anche i valori di precision e recall sono nel complesso molto buoni. \n",
    "In conclusione posso dire che il modello si è prestato molto bene ai fini del problema analizzato"
   ]
  },
  {
   "cell_type": "code",
   "execution_count": null,
   "metadata": {},
   "outputs": [],
   "source": [
    "models = pd.DataFrame({\n",
    "    'Model': [ 'Random Forest'],\n",
    "    'Score': [ acc_randomforest ]})\n",
    "models.sort_values(by='Score', ascending=False)"
   ]
  },
  {
   "cell_type": "markdown",
   "metadata": {},
   "source": []
  }
 ],
 "metadata": {
  "kernelspec": {
   "display_name": "Python 3",
   "language": "python",
   "name": "python3"
  },
  "language_info": {
   "codemirror_mode": {
    "name": "ipython",
    "version": 3
   },
   "file_extension": ".py",
   "mimetype": "text/x-python",
   "name": "python",
   "nbconvert_exporter": "python",
   "pygments_lexer": "ipython3",
   "version": "3.8.5"
  }
 },
 "nbformat": 4,
 "nbformat_minor": 4
}
