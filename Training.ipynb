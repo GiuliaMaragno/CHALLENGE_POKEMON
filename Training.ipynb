{
 "cells": [
  {
   "cell_type": "markdown",
   "metadata": {},
   "source": [
    "# IMPORTO LE LIBRERIE PRINCIPALI"
   ]
  },
  {
   "cell_type": "code",
   "execution_count": null,
   "metadata": {},
   "outputs": [],
   "source": [
    "import numpy as np\n",
    "import pandas as pd\n",
    "from sklearn.model_selection import train_test_split \n",
    "import matplotlib.pyplot as plt\n",
    "import seaborn as sns\n",
    "from sklearn.metrics import plot_confusion_matrix\n",
    "from sklearn.tree import DecisionTreeClassifier\n",
    "from sklearn.metrics import accuracy_score\n",
    "from sklearn.ensemble import RandomForestClassifier\n",
    "from sklearn.linear_model import LogisticRegression\n"
   ]
  },
  {
   "cell_type": "markdown",
   "metadata": {},
   "source": [
    "# MI LEGGO I VARI FILE CHE SONO DI SUPPORTO"
   ]
  },
  {
   "cell_type": "code",
   "execution_count": null,
   "metadata": {},
   "outputs": [],
   "source": [
    "train=pd.read_csv('train.csv')"
   ]
  },
  {
   "cell_type": "code",
   "execution_count": null,
   "metadata": {},
   "outputs": [],
   "source": [
    "test=pd.read_csv('test.csv')"
   ]
  },
  {
   "cell_type": "code",
   "execution_count": null,
   "metadata": {},
   "outputs": [],
   "source": [
    "pokemon=pd.read_csv('pokemon.csv')"
   ]
  },
  {
   "cell_type": "markdown",
   "metadata": {},
   "source": [
    "# DO UNA RAPIDA OCCHIATA AL DATASET"
   ]
  },
  {
   "cell_type": "code",
   "execution_count": null,
   "metadata": {},
   "outputs": [],
   "source": [
    "train.head()\n"
   ]
  },
  {
   "cell_type": "code",
   "execution_count": null,
   "metadata": {},
   "outputs": [],
   "source": [
    "test.head()"
   ]
  },
  {
   "cell_type": "markdown",
   "metadata": {},
   "source": [
    "# CAMBIO I VALORI DI WINNER, SE VINCE IL PRIMO VALE 1 ALTRIMENTI SE VINCE IL SECONDO VALE 0"
   ]
  },
  {
   "cell_type": "code",
   "execution_count": null,
   "metadata": {},
   "outputs": [],
   "source": [
    "def binary_winner(winner, first_pokemon, second_pokemon):\n",
    "    if (first_pokemon == winner):\n",
    "        return 1\n",
    "    elif (second_pokemon == winner):\n",
    "        return 0\n"
   ]
  },
  {
   "cell_type": "code",
   "execution_count": null,
   "metadata": {},
   "outputs": [],
   "source": [
    "train['Winner']= train.apply(lambda x: binary_winner(x['Winner'], x['First_pokemon'], x['Second_pokemon']), axis=1)\n",
    "test['Winner']= test.apply(lambda x: binary_winner(x['Winner'], x['First_pokemon'], x['Second_pokemon']), axis=1)"
   ]
  },
  {
   "cell_type": "markdown",
   "metadata": {},
   "source": [
    "# INSERISCO TRAIN E TEST IN UN UNICO DATASET CHIAMO DATASET IN CUI HO UNA COLONNA CHIAMATA TRAIN IL CUI VALORE VALE 1 SE IL RECORD E' PRESENTE NEL TRAIN 0 SE IL RECORD E' PRESENTE NEL TEST"
   ]
  },
  {
   "cell_type": "code",
   "execution_count": null,
   "metadata": {},
   "outputs": [],
   "source": [
    "train[\"train\"]=1\n",
    "test[\"train\"]=0\n",
    "dataset=pd.concat([train, test], ignore_index=True)"
   ]
  },
  {
   "cell_type": "code",
   "execution_count": null,
   "metadata": {},
   "outputs": [],
   "source": [
    "dataset['train']"
   ]
  },
  {
   "cell_type": "code",
   "execution_count": null,
   "metadata": {},
   "outputs": [],
   "source": [
    "list(train)"
   ]
  },
  {
   "cell_type": "code",
   "execution_count": null,
   "metadata": {},
   "outputs": [],
   "source": [
    "list(test)"
   ]
  },
  {
   "cell_type": "code",
   "execution_count": null,
   "metadata": {},
   "outputs": [],
   "source": [
    "train.info()"
   ]
  },
  {
   "cell_type": "code",
   "execution_count": null,
   "metadata": {},
   "outputs": [],
   "source": [
    "pokemon.info()"
   ]
  },
  {
   "cell_type": "markdown",
   "metadata": {},
   "source": [
    "# ESEGUO UN MERGE FRA IL DATASET \"POKEMON\" E IL DATASET \"DATASET\""
   ]
  },
  {
   "cell_type": "code",
   "execution_count": null,
   "metadata": {},
   "outputs": [],
   "source": [
    "joined_data= dataset.join(pokemon.set_index('#'), on ='First_pokemon', rsuffix=\"_first\")"
   ]
  },
  {
   "cell_type": "code",
   "execution_count": null,
   "metadata": {},
   "outputs": [],
   "source": [
    "joined_data= joined_data.join(pokemon.set_index('#'), on ='Second_pokemon', rsuffix=\"_second\")"
   ]
  },
  {
   "cell_type": "markdown",
   "metadata": {},
   "source": [
    "# VEDO LE FEATURE COMPLETE"
   ]
  },
  {
   "cell_type": "code",
   "execution_count": null,
   "metadata": {},
   "outputs": [],
   "source": [
    "list(joined_data)"
   ]
  },
  {
   "cell_type": "markdown",
   "metadata": {},
   "source": [
    "### MI STAMPO LA QUANTITA' DEI VALORI CHE ASSUMONO LE VARIE FEATURES"
   ]
  },
  {
   "cell_type": "code",
   "execution_count": null,
   "metadata": {},
   "outputs": [],
   "source": [
    "for c in joined_data.columns:\n",
    "    print (\"Features: \", c)\n",
    "    print(joined_data[c].value_counts())\n",
    "    print(\"\\n*****************\\n\")"
   ]
  },
  {
   "cell_type": "markdown",
   "metadata": {},
   "source": [
    "# VERIFICO SE CI SONO DEI VALORI MANCANTI ALL'INTERNO DEL DATASET"
   ]
  },
  {
   "cell_type": "code",
   "execution_count": null,
   "metadata": {},
   "outputs": [],
   "source": [
    "joined_data.info()"
   ]
  },
  {
   "cell_type": "markdown",
   "metadata": {},
   "source": [
    "# VALORI NULLI\n",
    "- Name\n",
    "- Name_second\n",
    "- Type 2 \n",
    "- Type 2_second"
   ]
  },
  {
   "cell_type": "code",
   "execution_count": null,
   "metadata": {},
   "outputs": [],
   "source": [
    "print(joined_data.isnull().sum())"
   ]
  },
  {
   "cell_type": "markdown",
   "metadata": {},
   "source": [
    "# Type2 ha molti valori mancanti!\n",
    "quasi la metà, potrei pensare di dropparla, ma dato che il tipo è una feature che dovrebbe essere rilevante nei Pokemon ai fini della sfida, portei pensare di mettere al posto del valore mancante di Type2 il valore di Type1 "
   ]
  },
  {
   "cell_type": "code",
   "execution_count": null,
   "metadata": {},
   "outputs": [],
   "source": [
    "joined_data['Type 2'].fillna(joined_data['Type 1'],inplace=True)\n",
    "joined_data['Type 2_second'].fillna(joined_data['Type 1_second'],inplace=True)"
   ]
  },
  {
   "cell_type": "markdown",
   "metadata": {},
   "source": [
    "# \"NAME\"  DATO CHE E' UNICA SI PUO' DROPPARE"
   ]
  },
  {
   "cell_type": "code",
   "execution_count": null,
   "metadata": {},
   "outputs": [],
   "source": [
    "print(joined_data.isnull().sum())"
   ]
  },
  {
   "cell_type": "code",
   "execution_count": null,
   "metadata": {},
   "outputs": [],
   "source": [
    "len(pokemon['Name'].unique())"
   ]
  },
  {
   "cell_type": "code",
   "execution_count": null,
   "metadata": {},
   "outputs": [],
   "source": [
    "toDrop = ['Name', 'Name_second']\n",
    "joined_data = joined_data.drop(toDrop, axis=1)"
   ]
  },
  {
   "cell_type": "code",
   "execution_count": null,
   "metadata": {},
   "outputs": [],
   "source": [
    "joined_data.head()"
   ]
  },
  {
   "cell_type": "markdown",
   "metadata": {},
   "source": [
    "##  Encoding: i modelli ragionano in termini di NUMERI e non di stringhe. \n",
    "## Per questo motivo, bisogna convertire i campi object/bool in numeri."
   ]
  },
  {
   "cell_type": "code",
   "execution_count": null,
   "metadata": {},
   "outputs": [],
   "source": [
    "# modifico alcuni nomi delle feature per comodità"
   ]
  },
  {
   "cell_type": "code",
   "execution_count": null,
   "metadata": {},
   "outputs": [],
   "source": [
    "joined_data.rename(columns={'Type 2':'Type2'},inplace=True)\n",
    "joined_data.rename(columns={'Type 1':'Type1'},inplace=True)"
   ]
  },
  {
   "cell_type": "code",
   "execution_count": null,
   "metadata": {},
   "outputs": [],
   "source": [
    "joined_data.rename(columns={'Type 1_second':'Type1_second'},inplace=True)\n",
    "joined_data.rename(columns={'Type 2_second':'Type2_second'},inplace=True)\n",
    "joined_data.rename(columns={'Sp. Atk':'Sp_Atk'},inplace=True)\n",
    "joined_data.rename(columns={'Sp. Def':'Sp_Def'},inplace=True)\n",
    "joined_data.rename(columns={'Sp. Atk_second':'Sp_Atk_second'},inplace=True)\n",
    "joined_data.rename(columns={'Sp. Def_second':'Sp_Def_second'},inplace=True)"
   ]
  },
  {
   "cell_type": "code",
   "execution_count": null,
   "metadata": {},
   "outputs": [],
   "source": [
    "joined_data.dtypes"
   ]
  },
  {
   "cell_type": "markdown",
   "metadata": {},
   "source": [
    "## i tipi da convertire sono:\n",
    "- Type1\n",
    "- Type2\n",
    "- Type2_second\n",
    "- Type1_second\n",
    "- Legendary\n",
    "- Legendary_second\n"
   ]
  },
  {
   "cell_type": "code",
   "execution_count": null,
   "metadata": {},
   "outputs": [],
   "source": [
    "from sklearn.preprocessing import LabelEncoder\n",
    "Feature = [\"Type1\", \"Type2\",\"Type2_second\", \"Legendary\", \"Type1_second\", \"Legendary_second\"]\n",
    "labelEncoder_X = LabelEncoder()\n",
    "for element in Feature:\n",
    "    joined_data[element] = labelEncoder_X.fit_transform(joined_data[element])\n",
    "    \n",
    "joined_data.head()"
   ]
  },
  {
   "cell_type": "code",
   "execution_count": null,
   "metadata": {},
   "outputs": [],
   "source": [
    "list(joined_data)"
   ]
  },
  {
   "cell_type": "code",
   "execution_count": null,
   "metadata": {},
   "outputs": [],
   "source": [
    "joined_data.head()"
   ]
  },
  {
   "cell_type": "code",
   "execution_count": null,
   "metadata": {},
   "outputs": [],
   "source": [
    "train= joined_data[joined_data.train == 1].drop(\"train\", axis=1)\n",
    "test= joined_data[joined_data.train == 0].drop(\"train\", axis=1)\n",
    "\n"
   ]
  },
  {
   "cell_type": "code",
   "execution_count": null,
   "metadata": {},
   "outputs": [],
   "source": [
    "y_train = train['Winner']           # vector of labels (dependent variable) #cosa dobbiamo predirre\n",
    "X_train = train.drop(['Winner'], axis=1)      # remove the dependent variable from the dataframe Train #tutto tranne la label\n",
    "\n",
    "y_test = test['Winner']           # vector of labels (dependent variable) #cosa dobbiamo predirre\n",
    "X_test = test.drop(['Winner'], axis=1)      # remove the dependent variable from the dataframe Test #tutto tranne la label\n"
   ]
  },
  {
   "cell_type": "markdown",
   "metadata": {},
   "source": [
    "## Mi stampo un grafico che mostra quanti come sono distribuiti i valori per Winner nel dataset "
   ]
  },
  {
   "cell_type": "code",
   "execution_count": null,
   "metadata": {},
   "outputs": [],
   "source": [
    "sns.countplot(x=train['Winner'])"
   ]
  },
  {
   "cell_type": "code",
   "execution_count": null,
   "metadata": {},
   "outputs": [],
   "source": [
    "sns.countplot(x=test['Winner'])"
   ]
  },
  {
   "cell_type": "markdown",
   "metadata": {},
   "source": [
    "Notiamo che i valori sono distribuiti in maniera abbastanza omogenea sia nel dataset di train sia nel dataset di test"
   ]
  },
  {
   "cell_type": "code",
   "execution_count": null,
   "metadata": {},
   "outputs": [],
   "source": [
    "sns.countplot(x=train[\"Generation\"],hue=train[\"Winner\"]);"
   ]
  },
  {
   "cell_type": "markdown",
   "metadata": {},
   "source": [
    "La feature Generation sembrerebbe superflua."
   ]
  },
  {
   "cell_type": "code",
   "execution_count": null,
   "metadata": {},
   "outputs": [],
   "source": [
    "plt.figure(figsize=(30,30))\n",
    "sns.countplot(x=train[\"Speed\"],hue=train[\"Winner\"]);"
   ]
  },
  {
   "cell_type": "markdown",
   "metadata": {},
   "source": [
    "Dal grafico di sopra possiamo notare come \n",
    "### i pokemon che hanno velocità più alta tendono a vincere. \n",
    "\n",
    "Definisco quindi una nuova Feature che mi rappresenta la differenza fra le Stats Velocità dei due Pokemon"
   ]
  },
  {
   "cell_type": "code",
   "execution_count": null,
   "metadata": {},
   "outputs": [],
   "source": [
    "train['diff_Speed']=train['Speed']-train['Speed_second']\n",
    "test['diff_Speed']=test['Speed']-test['Speed_second']"
   ]
  },
  {
   "cell_type": "code",
   "execution_count": null,
   "metadata": {},
   "outputs": [],
   "source": [
    "plt.figure(figsize=(80,100))\n",
    "sns.countplot(x=train[\"diff_Speed\"],hue=train[\"Winner\"]);"
   ]
  },
  {
   "cell_type": "markdown",
   "metadata": {},
   "source": [
    "### DA QUESTO GRAFICO RISULTA MOLTO PIU' EVIDENTE CIO' CHE HO AFFERMATO PRECEDENTEMENTE\n",
    "OVVERO CHE I POKEMON CHE POSSIEDONO VELOCITA' PIU ALTE TENDONO A VINCERE. \n",
    "- INFATTI DIFFERENZA POSITIVA VUOL DIRE CHE IL PRIMO E' PIU' VELOCE DEL SECONDO -> VINCE IL PRIMO, E INFATTI WINNER=1\n",
    "- INVECE DIFFERENZA NEGATIVA VUOL DIRE CHE IL SECONDO E' PIU' VELOCE DEL PRIMO -> VINCE IL SECONDO, E INFATTI WINNER=0"
   ]
  },
  {
   "cell_type": "code",
   "execution_count": null,
   "metadata": {},
   "outputs": [],
   "source": [
    "plt.figure(figsize=(200,50))\n",
    "sns.countplot(x=train[\"HP\"],hue=train[\"Winner\"]);"
   ]
  },
  {
   "cell_type": "markdown",
   "metadata": {},
   "source": [
    "DA QUESTO GRAFICO SEMBREREBBE CHE HP POSSA ESSERE UTILE, PER CAPIRE MEGLIO L'ANDAMENTO DEFINISCO ANCHE PER QUESTO UNA NUOVA FEATURE "
   ]
  },
  {
   "cell_type": "code",
   "execution_count": null,
   "metadata": {},
   "outputs": [],
   "source": [
    "train['diff_HP']=train['HP']-train['HP_second']\n",
    "test['diff_HP']= test['HP']- test['HP_second']"
   ]
  },
  {
   "cell_type": "code",
   "execution_count": null,
   "metadata": {},
   "outputs": [],
   "source": [
    "plt.figure(figsize=(200,50))\n",
    "sns.countplot(x=train[\"diff_HP\"],hue=train[\"Winner\"]);"
   ]
  },
  {
   "cell_type": "markdown",
   "metadata": {},
   "source": [
    "DA QUESTO GRAFICO SEMBREREBBE CHE HP POSSA ESSERE UTILE, anche se risulta che con differenza positiva bassa continua a vincere il secondo "
   ]
  },
  {
   "cell_type": "code",
   "execution_count": null,
   "metadata": {},
   "outputs": [],
   "source": [
    "plt.figure(figsize=(200,50))\n",
    "sns.countplot(x=train[\"Attack\"],hue=train[\"Winner\"]);"
   ]
  },
  {
   "cell_type": "markdown",
   "metadata": {},
   "source": [
    "QUESTO GRAFICO COSI' NON SEMBRA ESSERE MOLTO RILEVANTE QUINDI PROVIAMO A VEDERE SE DEFINENDO UNA FEATURE CHE MI RAPPRESENTA LA DIFFERENZA FRA I DUE ATTACCHI OTTENGO UN QUALCOSA DI PIU' INTERESSANTE"
   ]
  },
  {
   "cell_type": "code",
   "execution_count": null,
   "metadata": {},
   "outputs": [],
   "source": [
    "train['diff_Attack']=train['Attack']-train['Attack_second']\n",
    "test['diff_Attack']=test['Attack']-test['Attack_second']\n"
   ]
  },
  {
   "cell_type": "code",
   "execution_count": null,
   "metadata": {},
   "outputs": [],
   "source": [
    "plt.figure(figsize=(200,50))\n",
    "sns.countplot(x=train[\"diff_Attack\"],hue=train[\"Winner\"]);"
   ]
  },
  {
   "cell_type": "markdown",
   "metadata": {},
   "source": [
    "DIFFERENZA NEGATIVA TENDEONO A VINCERE MAGGIORMENTE IL POKEMON 2 DIFFERENZA POSITIVA VICEVERSA. \n",
    "QUESTA FEATURE RISULTA ESSERE ABBASTANZA VALIDA. \n",
    "ATTACCO 1 MAGGIORE ATTACCO2--> vince 1\n",
    "ATTACCO 2 MAGGIORE ATTACCO1--> vince2"
   ]
  },
  {
   "cell_type": "code",
   "execution_count": null,
   "metadata": {},
   "outputs": [],
   "source": [
    "plt.figure(figsize=(200,50))\n",
    "sns.countplot(x=train[\"Defense\"],hue=train[\"Winner\"]);"
   ]
  },
  {
   "cell_type": "markdown",
   "metadata": {},
   "source": [
    "Anche qui con differenza negativa tende a vincere il secondo mentre con differenza positiva tende a vincere il primo. \n",
    "Non si vede in maniera eclatante come si era visto per la feature different speed"
   ]
  },
  {
   "cell_type": "code",
   "execution_count": null,
   "metadata": {},
   "outputs": [],
   "source": [
    "train['diff_Defense']=train['Defense']-train['Defense_second']\n",
    "test['diff_Defense']=test['Defense']-test['Defense_second']"
   ]
  },
  {
   "cell_type": "code",
   "execution_count": null,
   "metadata": {},
   "outputs": [],
   "source": [
    "plt.figure(figsize=(200,50))\n",
    "sns.countplot(x=train[\"diff_Defense\"],hue=train[\"Winner\"]);"
   ]
  },
  {
   "cell_type": "markdown",
   "metadata": {},
   "source": [
    "DA QUESTO GRAFICO NON EMERGONO COSE RILEVANTI I VALORI DI VINCITA DEL PRIMO E DEL SECONDO SONO STATISTICAMENTE PARAGONABILI QUINDI PROBABILMENTE QUESTA FEATURE PUO' ESSERE DROPPATA"
   ]
  },
  {
   "cell_type": "code",
   "execution_count": null,
   "metadata": {},
   "outputs": [],
   "source": [
    "plt.figure(figsize=(200,50))\n",
    "sns.countplot(x=train[\"Sp_Atk\"],hue=train[\"Winner\"]);"
   ]
  },
  {
   "cell_type": "code",
   "execution_count": null,
   "metadata": {},
   "outputs": [],
   "source": [
    "\n",
    "train['diff_Sp_Atk']=train['Sp_Atk']-train['Sp_Atk_second']\n",
    "test['diff_Sp_Atk']=test['Sp_Atk']-test['Sp_Atk_second']"
   ]
  },
  {
   "cell_type": "code",
   "execution_count": null,
   "metadata": {},
   "outputs": [],
   "source": [
    "sns.countplot(x=train[\"diff_Sp_Atk\"],hue=train[\"Winner\"]);"
   ]
  },
  {
   "cell_type": "code",
   "execution_count": null,
   "metadata": {},
   "outputs": [],
   "source": []
  },
  {
   "cell_type": "code",
   "execution_count": null,
   "metadata": {},
   "outputs": [],
   "source": []
  },
  {
   "cell_type": "code",
   "execution_count": null,
   "metadata": {},
   "outputs": [],
   "source": [
    "sns.countplot(x=train[\"Sp_Def\"],hue=train[\"Winner\"]);"
   ]
  },
  {
   "cell_type": "code",
   "execution_count": null,
   "metadata": {},
   "outputs": [],
   "source": [
    "train['diff_Sp_Def']=train['Sp_Def']-train['Sp_Def_second']\n",
    "test['diff_Sp_Def']=test['Sp_Def']-test['Sp_Def_second']"
   ]
  },
  {
   "cell_type": "code",
   "execution_count": null,
   "metadata": {},
   "outputs": [],
   "source": []
  },
  {
   "cell_type": "code",
   "execution_count": null,
   "metadata": {},
   "outputs": [],
   "source": [
    "sns.countplot(x=train[\"diff_Sp_Def\"],hue=train[\"Winner\"]);"
   ]
  },
  {
   "cell_type": "code",
   "execution_count": null,
   "metadata": {},
   "outputs": [],
   "source": [
    "sns.countplot(x=train[\"Legendary\"],hue=train[\"Winner\"]);"
   ]
  },
  {
   "cell_type": "markdown",
   "metadata": {},
   "source": [
    "La feature Legendary invece ci mostra che i legendari sono pochi e quelli che ci sono se attaccano per primi tendono a vincere, mentre per i non legendari sembrerebbe che siano molti."
   ]
  },
  {
   "cell_type": "code",
   "execution_count": null,
   "metadata": {},
   "outputs": [],
   "source": [
    "sns.countplot(x=train[\"Legendary_second\"],hue=train[\"Winner\"]);"
   ]
  },
  {
   "cell_type": "markdown",
   "metadata": {},
   "source": [
    "# Mi stampo una heatmap che mi guarda quale sia la correlazione che ho fra le feature:\n",
    "- valore negativo -> relazione di proporzionalità inversa\n",
    "- valore positivo -> relazione di proporzionalità diretta\n",
    "- valore pari a zero-> no correlazione (feature può essere eliminata)"
   ]
  },
  {
   "cell_type": "code",
   "execution_count": null,
   "metadata": {},
   "outputs": [],
   "source": [
    "plt.figure(figsize=(18,10))\n",
    "correlation = train.corr()\n",
    "sns.heatmap(correlation, annot = True, linewidth = 2)"
   ]
  },
  {
   "cell_type": "markdown",
   "metadata": {},
   "source": [
    "Dalla heatmap vediamo che le seguenti feature non sono utili per il nostro scopo:\n",
    "- First_Pokemon\n",
    "- Second_Pokemon\n",
    "- Defense \n",
    "- diff_Sp_Def --> come avevamo visto dai countplot \n",
    "- Generation\n",
    "- Defense_second\n",
    "- Generation_second\n",
    "- Type1 \n",
    "- Type2\n",
    "\n",
    "\n",
    "Quindi si possono droppare"
   ]
  },
  {
   "cell_type": "code",
   "execution_count": null,
   "metadata": {},
   "outputs": [],
   "source": [
    "toDrop = ['First_pokemon','Second_pokemon', 'Defense','diff_Sp_Def' ,'Generation', 'Defense_second', 'Generation_second']\n",
    "train = train.drop(toDrop, axis=1)"
   ]
  },
  {
   "cell_type": "code",
   "execution_count": null,
   "metadata": {},
   "outputs": [],
   "source": [
    "toDrop = ['First_pokemon','Second_pokemon',  'Defense','diff_Sp_Def' ,'Generation',  'Defense_second', 'Generation_second']\n",
    "test = test.drop(toDrop, axis=1)"
   ]
  },
  {
   "cell_type": "code",
   "execution_count": null,
   "metadata": {},
   "outputs": [],
   "source": [
    "decisionTree = DecisionTreeClassifier()\n",
    "logisticRegression = LogisticRegression(random_state=0, max_iter = 10000)\n",
    "randomForest = RandomForestClassifier()\n",
    "\n",
    "models = [decisionTree, logisticRegression, randomForest]\n",
    "score = []\n",
    "\n",
    "for model in models:\n",
    "    model.fit(X_train, y_train)\n",
    "    y_pred = model.predict(X_test)\n",
    "    acc = round(accuracy_score(y_pred, y_test) * 100, 2)\n",
    "    score.append(acc)\n",
    "    print(model)\n",
    "    print(acc)\n",
    "    plot_confusion_matrix(model, X_test, y_test, values_format='n', display_labels=['No','Yes']) \n",
    "    plt.show() #sx predizioni giuste, dx predizioni sbagliate\n",
    "    print(classification_report(y_test,y_pred))"
   ]
  },
  {
   "cell_type": "code",
   "execution_count": null,
   "metadata": {},
   "outputs": [],
   "source": [
    "models = pd.DataFrame({\n",
    "\n",
    "    'Model': ['Decision Tree','Logistic Regression', 'Random Forest'],\n",
    "\n",
    "    'Score': score})\n",
    "    \n",
    "models.sort_values(by='Score', ascending=False)"
   ]
  }
 ],
 "metadata": {
  "kernelspec": {
   "display_name": "Python 3",
   "language": "python",
   "name": "python3"
  },
  "language_info": {
   "codemirror_mode": {
    "name": "ipython",
    "version": 3
   },
   "file_extension": ".py",
   "mimetype": "text/x-python",
   "name": "python",
   "nbconvert_exporter": "python",
   "pygments_lexer": "ipython3",
   "version": "3.8.5"
  }
 },
 "nbformat": 4,
 "nbformat_minor": 4
}
