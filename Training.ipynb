{
 "cells": [
  {
   "cell_type": "code",
   "execution_count": 1,
   "metadata": {},
   "outputs": [
    {
     "name": "stdout",
     "output_type": "stream",
     "text": [
      "\u001b[31mERROR: File \"setup.py\" not found. Directory cannot be installed in editable mode: /Users/giulia/opt/anaconda3/lib/python3.8/site-packages\u001b[0m\r\n"
     ]
    }
   ],
   "source": [
    "!pip install numpy\n",
    "!pip install pandas\n",
    "!pip install matplotlib\n",
    "!pip install seaborn\n",
    "!pip install sklearn"
   ]
  },
  {
   "cell_type": "markdown",
   "metadata": {},
   "source": [
    "# IMPORTO LE LIBRERIE PRINCIPALI"
   ]
  },
  {
   "cell_type": "code",
   "execution_count": 2,
   "metadata": {},
   "outputs": [],
   "source": [
    "import numpy as np\n",
    "import pandas as pd\n",
    "from sklearn.model_selection import train_test_split \n",
    "import matplotlib.pyplot as plt\n",
    "import seaborn as sns\n",
    "from sklearn.metrics import plot_confusion_matrix\n",
    "from sklearn.tree import DecisionTreeClassifier\n",
    "from sklearn.metrics import accuracy_score\n",
    "from sklearn.ensemble import RandomForestClassifier\n",
    "from sklearn.linear_model import LogisticRegression\n"
   ]
  },
  {
   "cell_type": "markdown",
   "metadata": {},
   "source": [
    "# MI LEGGO I VARI FILE CHE SONO DI SUPPORTO"
   ]
  },
  {
   "cell_type": "code",
   "execution_count": 3,
   "metadata": {},
   "outputs": [],
   "source": [
    "train=pd.read_csv('train.csv')"
   ]
  },
  {
   "cell_type": "code",
   "execution_count": 4,
   "metadata": {},
   "outputs": [],
   "source": [
    "test=pd.read_csv('test.csv')"
   ]
  },
  {
   "cell_type": "code",
   "execution_count": 5,
   "metadata": {},
   "outputs": [],
   "source": [
    "pokemon=pd.read_csv('pokemon.csv')"
   ]
  },
  {
   "cell_type": "markdown",
   "metadata": {},
   "source": [
    "# DO UNA RAPIDA OCCHIATA AL DATASET"
   ]
  },
  {
   "cell_type": "code",
   "execution_count": 6,
   "metadata": {},
   "outputs": [
    {
     "data": {
      "text/html": [
       "<div>\n",
       "<style scoped>\n",
       "    .dataframe tbody tr th:only-of-type {\n",
       "        vertical-align: middle;\n",
       "    }\n",
       "\n",
       "    .dataframe tbody tr th {\n",
       "        vertical-align: top;\n",
       "    }\n",
       "\n",
       "    .dataframe thead th {\n",
       "        text-align: right;\n",
       "    }\n",
       "</style>\n",
       "<table border=\"1\" class=\"dataframe\">\n",
       "  <thead>\n",
       "    <tr style=\"text-align: right;\">\n",
       "      <th></th>\n",
       "      <th>Winner</th>\n",
       "      <th>First_pokemon</th>\n",
       "      <th>Second_pokemon</th>\n",
       "    </tr>\n",
       "  </thead>\n",
       "  <tbody>\n",
       "    <tr>\n",
       "      <th>0</th>\n",
       "      <td>124</td>\n",
       "      <td>124</td>\n",
       "      <td>221</td>\n",
       "    </tr>\n",
       "    <tr>\n",
       "      <th>1</th>\n",
       "      <td>1</td>\n",
       "      <td>323</td>\n",
       "      <td>1</td>\n",
       "    </tr>\n",
       "    <tr>\n",
       "      <th>2</th>\n",
       "      <td>58</td>\n",
       "      <td>58</td>\n",
       "      <td>459</td>\n",
       "    </tr>\n",
       "    <tr>\n",
       "      <th>3</th>\n",
       "      <td>491</td>\n",
       "      <td>180</td>\n",
       "      <td>491</td>\n",
       "    </tr>\n",
       "    <tr>\n",
       "      <th>4</th>\n",
       "      <td>799</td>\n",
       "      <td>799</td>\n",
       "      <td>559</td>\n",
       "    </tr>\n",
       "  </tbody>\n",
       "</table>\n",
       "</div>"
      ],
      "text/plain": [
       "   Winner  First_pokemon  Second_pokemon\n",
       "0     124            124             221\n",
       "1       1            323               1\n",
       "2      58             58             459\n",
       "3     491            180             491\n",
       "4     799            799             559"
      ]
     },
     "execution_count": 6,
     "metadata": {},
     "output_type": "execute_result"
    }
   ],
   "source": [
    "train.head()\n"
   ]
  },
  {
   "cell_type": "code",
   "execution_count": 7,
   "metadata": {},
   "outputs": [
    {
     "data": {
      "text/html": [
       "<div>\n",
       "<style scoped>\n",
       "    .dataframe tbody tr th:only-of-type {\n",
       "        vertical-align: middle;\n",
       "    }\n",
       "\n",
       "    .dataframe tbody tr th {\n",
       "        vertical-align: top;\n",
       "    }\n",
       "\n",
       "    .dataframe thead th {\n",
       "        text-align: right;\n",
       "    }\n",
       "</style>\n",
       "<table border=\"1\" class=\"dataframe\">\n",
       "  <thead>\n",
       "    <tr style=\"text-align: right;\">\n",
       "      <th></th>\n",
       "      <th>Winner</th>\n",
       "      <th>First_pokemon</th>\n",
       "      <th>Second_pokemon</th>\n",
       "    </tr>\n",
       "  </thead>\n",
       "  <tbody>\n",
       "    <tr>\n",
       "      <th>0</th>\n",
       "      <td>313</td>\n",
       "      <td>313</td>\n",
       "      <td>689</td>\n",
       "    </tr>\n",
       "    <tr>\n",
       "      <th>1</th>\n",
       "      <td>343</td>\n",
       "      <td>343</td>\n",
       "      <td>791</td>\n",
       "    </tr>\n",
       "    <tr>\n",
       "      <th>2</th>\n",
       "      <td>717</td>\n",
       "      <td>717</td>\n",
       "      <td>722</td>\n",
       "    </tr>\n",
       "    <tr>\n",
       "      <th>3</th>\n",
       "      <td>736</td>\n",
       "      <td>734</td>\n",
       "      <td>736</td>\n",
       "    </tr>\n",
       "    <tr>\n",
       "      <th>4</th>\n",
       "      <td>545</td>\n",
       "      <td>482</td>\n",
       "      <td>545</td>\n",
       "    </tr>\n",
       "  </tbody>\n",
       "</table>\n",
       "</div>"
      ],
      "text/plain": [
       "   Winner  First_pokemon  Second_pokemon\n",
       "0     313            313             689\n",
       "1     343            343             791\n",
       "2     717            717             722\n",
       "3     736            734             736\n",
       "4     545            482             545"
      ]
     },
     "execution_count": 7,
     "metadata": {},
     "output_type": "execute_result"
    }
   ],
   "source": [
    "test.head()"
   ]
  },
  {
   "cell_type": "markdown",
   "metadata": {},
   "source": [
    "# CAMBIO I VALORI DI WINNER:\n",
    "- SE VINCE IL PRIMO VALE 1 \n",
    "- SE VINCE IL SECONDO VALE 0"
   ]
  },
  {
   "cell_type": "code",
   "execution_count": 9,
   "metadata": {},
   "outputs": [],
   "source": [
    "def conv_bin_winner(winner, first_pokemon, second_pokemon):\n",
    "    if (first_pokemon == winner):\n",
    "        return 1\n",
    "    elif (second_pokemon == winner):\n",
    "        return 0\n"
   ]
  },
  {
   "cell_type": "code",
   "execution_count": 10,
   "metadata": {},
   "outputs": [],
   "source": [
    "train['Winner']= train.apply(lambda x: conv_bin_winner(x['Winner'], x['First_pokemon'], x['Second_pokemon']), axis=1)\n",
    "test['Winner']= test.apply(lambda x: conv_bin_winner(x['Winner'], x['First_pokemon'], x['Second_pokemon']), axis=1)"
   ]
  },
  {
   "cell_type": "markdown",
   "metadata": {},
   "source": [
    "# INSERISCO TRAIN E TEST IN UN UNICO DATASET \n",
    "IN CUI HO UNA COLONNA CHIAMATA TRAIN IL CUI VALORE VALE 1 SE IL RECORD E' PRESENTE NEL TRAIN, 0 SE IL RECORD E' PRESENTE NEL TEST"
   ]
  },
  {
   "cell_type": "code",
   "execution_count": 11,
   "metadata": {},
   "outputs": [],
   "source": [
    "train[\"train\"]=1\n",
    "test[\"train\"]=0\n",
    "dataset=pd.concat([train, test], ignore_index=True)"
   ]
  },
  {
   "cell_type": "code",
   "execution_count": 12,
   "metadata": {},
   "outputs": [
    {
     "data": {
      "text/plain": [
       "0        1\n",
       "1        1\n",
       "2        1\n",
       "3        1\n",
       "4        1\n",
       "        ..\n",
       "39995    0\n",
       "39996    0\n",
       "39997    0\n",
       "39998    0\n",
       "39999    0\n",
       "Name: train, Length: 40000, dtype: int64"
      ]
     },
     "execution_count": 12,
     "metadata": {},
     "output_type": "execute_result"
    }
   ],
   "source": [
    "dataset['train']"
   ]
  },
  {
   "cell_type": "code",
   "execution_count": 15,
   "metadata": {},
   "outputs": [
    {
     "data": {
      "text/plain": [
       "['Winner', 'First_pokemon', 'Second_pokemon', 'train']"
      ]
     },
     "execution_count": 15,
     "metadata": {},
     "output_type": "execute_result"
    }
   ],
   "source": [
    "list(dataset)"
   ]
  },
  {
   "cell_type": "code",
   "execution_count": 16,
   "metadata": {},
   "outputs": [
    {
     "name": "stdout",
     "output_type": "stream",
     "text": [
      "<class 'pandas.core.frame.DataFrame'>\n",
      "RangeIndex: 800 entries, 0 to 799\n",
      "Data columns (total 12 columns):\n",
      " #   Column      Non-Null Count  Dtype \n",
      "---  ------      --------------  ----- \n",
      " 0   #           800 non-null    int64 \n",
      " 1   Name        799 non-null    object\n",
      " 2   Type 1      800 non-null    object\n",
      " 3   Type 2      414 non-null    object\n",
      " 4   HP          800 non-null    int64 \n",
      " 5   Attack      800 non-null    int64 \n",
      " 6   Defense     800 non-null    int64 \n",
      " 7   Sp. Atk     800 non-null    int64 \n",
      " 8   Sp. Def     800 non-null    int64 \n",
      " 9   Speed       800 non-null    int64 \n",
      " 10  Generation  800 non-null    int64 \n",
      " 11  Legendary   800 non-null    bool  \n",
      "dtypes: bool(1), int64(8), object(3)\n",
      "memory usage: 69.7+ KB\n"
     ]
    }
   ],
   "source": [
    "pokemon.info()"
   ]
  },
  {
   "cell_type": "markdown",
   "metadata": {},
   "source": [
    "# ESEGUO UN MERGE FRA IL DATASET \"POKEMON\" E IL DATASET \"DATASET\""
   ]
  },
  {
   "cell_type": "code",
   "execution_count": 17,
   "metadata": {},
   "outputs": [],
   "source": [
    "joined_data= dataset.join(pokemon.set_index('#'), on ='First_pokemon', rsuffix=\"_first\")"
   ]
  },
  {
   "cell_type": "code",
   "execution_count": 18,
   "metadata": {},
   "outputs": [],
   "source": [
    "joined_data= joined_data.join(pokemon.set_index('#'), on ='Second_pokemon', rsuffix=\"_second\")"
   ]
  },
  {
   "cell_type": "markdown",
   "metadata": {},
   "source": [
    "# VEDO TUTTE LE FEATURES\n"
   ]
  },
  {
   "cell_type": "code",
   "execution_count": 20,
   "metadata": {},
   "outputs": [
    {
     "data": {
      "text/plain": [
       "['Winner',\n",
       " 'First_pokemon',\n",
       " 'Second_pokemon',\n",
       " 'train',\n",
       " 'Name',\n",
       " 'Type 1',\n",
       " 'Type 2',\n",
       " 'HP',\n",
       " 'Attack',\n",
       " 'Defense',\n",
       " 'Sp. Atk',\n",
       " 'Sp. Def',\n",
       " 'Speed',\n",
       " 'Generation',\n",
       " 'Legendary',\n",
       " 'Name_second',\n",
       " 'Type 1_second',\n",
       " 'Type 2_second',\n",
       " 'HP_second',\n",
       " 'Attack_second',\n",
       " 'Defense_second',\n",
       " 'Sp. Atk_second',\n",
       " 'Sp. Def_second',\n",
       " 'Speed_second',\n",
       " 'Generation_second',\n",
       " 'Legendary_second']"
      ]
     },
     "execution_count": 20,
     "metadata": {},
     "output_type": "execute_result"
    }
   ],
   "source": [
    "list(joined_data)"
   ]
  },
  {
   "cell_type": "markdown",
   "metadata": {},
   "source": [
    "### MI STAMPO LA QUANTITA' DEI VALORI CHE ASSUMONO LE VARIE FEATURES"
   ]
  },
  {
   "cell_type": "code",
   "execution_count": 21,
   "metadata": {},
   "outputs": [
    {
     "name": "stdout",
     "output_type": "stream",
     "text": [
      "Features:  Winner\n",
      "0    21152\n",
      "1    18848\n",
      "Name: Winner, dtype: int64\n",
      "\n",
      "*****************\n",
      "\n",
      "Features:  First_pokemon\n",
      "344    76\n",
      "71     75\n",
      "764    75\n",
      "163    74\n",
      "667    72\n",
      "       ..\n",
      "566    34\n",
      "458    34\n",
      "714    33\n",
      "34     33\n",
      "398    32\n",
      "Name: First_pokemon, Length: 784, dtype: int64\n",
      "\n",
      "*****************\n",
      "\n",
      "Features:  Second_pokemon\n",
      "225    73\n",
      "47     72\n",
      "214    72\n",
      "372    70\n",
      "758    69\n",
      "       ..\n",
      "513    33\n",
      "709    32\n",
      "413    31\n",
      "421    28\n",
      "519    26\n",
      "Name: Second_pokemon, Length: 784, dtype: int64\n",
      "\n",
      "*****************\n",
      "\n",
      "Features:  train\n",
      "1    32000\n",
      "0     8000\n",
      "Name: train, dtype: int64\n",
      "\n",
      "*****************\n",
      "\n",
      "Features:  Name\n",
      "Illumise                 76\n",
      "Clawitzer                75\n",
      "Alakazam                 75\n",
      "Mewtwo                   74\n",
      "Elgyem                   72\n",
      "                         ..\n",
      "Mantyke                  34\n",
      "Exeggutor                34\n",
      "Sandslash                33\n",
      "Keldeo Ordinary Forme    33\n",
      "Mega Glalie              32\n",
      "Name: Name, Length: 783, dtype: int64\n",
      "\n",
      "*****************\n",
      "\n",
      "Features:  Type 1\n",
      "Water       5604\n",
      "Normal      4888\n",
      "Bug         3498\n",
      "Grass       3396\n",
      "Psychic     2962\n",
      "Fire        2627\n",
      "Rock        2291\n",
      "Electric    2106\n",
      "Ghost       1598\n",
      "Dragon      1544\n",
      "Ground      1537\n",
      "Dark        1488\n",
      "Poison      1455\n",
      "Steel       1401\n",
      "Fighting    1346\n",
      "Ice         1212\n",
      "Fairy        844\n",
      "Flying       203\n",
      "Name: Type 1, dtype: int64\n",
      "\n",
      "*****************\n",
      "\n",
      "Features:  Type 2\n",
      "Flying      4943\n",
      "Ground      1794\n",
      "Poison      1660\n",
      "Psychic     1622\n",
      "Fighting    1337\n",
      "Grass       1220\n",
      "Fairy       1115\n",
      "Steel       1063\n",
      "Dark        1006\n",
      "Dragon       915\n",
      "Water        741\n",
      "Rock         700\n",
      "Ice          695\n",
      "Ghost        646\n",
      "Fire         602\n",
      "Electric     310\n",
      "Normal       198\n",
      "Bug          169\n",
      "Name: Type 2, dtype: int64\n",
      "\n",
      "*****************\n",
      "\n",
      "Features:  HP\n",
      "60    3374\n",
      "50    3080\n",
      "70    2872\n",
      "65    2358\n",
      "75    2208\n",
      "      ... \n",
      "36      45\n",
      "31      44\n",
      "97      43\n",
      "10      42\n",
      "1       40\n",
      "Name: HP, Length: 92, dtype: int64\n",
      "\n",
      "*****************\n",
      "\n",
      "Features:  Attack\n",
      "80     1963\n",
      "65     1948\n",
      "100    1883\n",
      "50     1838\n",
      "85     1661\n",
      "       ... \n",
      "24       43\n",
      "27       43\n",
      "43       41\n",
      "54       37\n",
      "29       34\n",
      "Name: Attack, Length: 111, dtype: int64\n",
      "\n",
      "*****************\n",
      "\n",
      "Features:  Defense\n",
      "70     2564\n",
      "50     2496\n",
      "60     2337\n",
      "80     1979\n",
      "65     1791\n",
      "       ... \n",
      "89       42\n",
      "184      42\n",
      "28       40\n",
      "99       39\n",
      "54       38\n",
      "Name: Defense, Length: 103, dtype: int64\n",
      "\n",
      "*****************\n",
      "\n",
      "Features:  Sp. Atk\n",
      "60     2502\n",
      "40     2408\n",
      "65     2222\n",
      "50     2008\n",
      "55     1780\n",
      "       ... \n",
      "116      45\n",
      "194      44\n",
      "41       42\n",
      "38       36\n",
      "29       34\n",
      "Name: Sp. Atk, Length: 104, dtype: int64\n",
      "\n",
      "*****************\n",
      "\n",
      "Features:  Sp. Def\n",
      "80     2634\n",
      "50     2499\n",
      "55     2307\n",
      "65     2248\n",
      "60     2069\n",
      "       ... \n",
      "113      47\n",
      "101      47\n",
      "38       47\n",
      "78       46\n",
      "138      44\n",
      "Name: Sp. Def, Length: 92, dtype: int64\n",
      "\n",
      "*****************\n",
      "\n",
      "Features:  Speed\n",
      "50     2276\n",
      "60     2088\n",
      "30     1850\n",
      "65     1845\n",
      "70     1744\n",
      "       ... \n",
      "113      47\n",
      "39       47\n",
      "126      44\n",
      "114      43\n",
      "89       43\n",
      "Name: Speed, Length: 108, dtype: int64\n",
      "\n",
      "*****************\n",
      "\n",
      "Features:  Generation\n",
      "5    8255\n",
      "1    8204\n",
      "3    8157\n",
      "4    6034\n",
      "2    5281\n",
      "6    4069\n",
      "Name: Generation, dtype: int64\n",
      "\n",
      "*****************\n",
      "\n",
      "Features:  Legendary\n",
      "False    36728\n",
      "True      3272\n",
      "Name: Legendary, dtype: int64\n",
      "\n",
      "*****************\n",
      "\n",
      "Features:  Name_second\n",
      "Mega Steelix                73\n",
      "Zubat                       72\n",
      "Murkrow                     72\n",
      "Barboach                    70\n",
      "Nidorina                    69\n",
      "                            ..\n",
      "Weavile                     33\n",
      "Landorus Incarnate Forme    32\n",
      "Metagross                   31\n",
      "Mega Latios                 28\n",
      "Magmortar                   26\n",
      "Name: Name_second, Length: 783, dtype: int64\n",
      "\n",
      "*****************\n",
      "\n",
      "Features:  Type 1_second\n",
      "Water       5625\n",
      "Normal      4825\n",
      "Bug         3464\n",
      "Grass       3348\n",
      "Psychic     2891\n",
      "Fire        2608\n",
      "Rock        2231\n",
      "Electric    2175\n",
      "Dark        1590\n",
      "Dragon      1566\n",
      "Ground      1551\n",
      "Ghost       1541\n",
      "Poison      1496\n",
      "Steel       1452\n",
      "Fighting    1315\n",
      "Ice         1246\n",
      "Fairy        884\n",
      "Flying       192\n",
      "Name: Type 1_second, dtype: int64\n",
      "\n",
      "*****************\n",
      "\n",
      "Features:  Type 2_second\n",
      "Flying      4927\n",
      "Ground      1830\n",
      "Psychic     1626\n",
      "Poison      1585\n",
      "Fighting    1331\n",
      "Grass       1284\n",
      "Fairy       1103\n",
      "Steel       1069\n",
      "Dark        1003\n",
      "Dragon       972\n",
      "Rock         723\n",
      "Water        712\n",
      "Ice          702\n",
      "Ghost        651\n",
      "Fire         618\n",
      "Electric     327\n",
      "Normal       189\n",
      "Bug          165\n",
      "Name: Type 2_second, dtype: int64\n",
      "\n",
      "*****************\n",
      "\n",
      "Features:  HP_second\n",
      "60     3368\n",
      "50     3102\n",
      "70     2842\n",
      "65     2388\n",
      "80     2095\n",
      "       ... \n",
      "135      43\n",
      "37       43\n",
      "160      39\n",
      "250      38\n",
      "51       38\n",
      "Name: HP_second, Length: 92, dtype: int64\n",
      "\n",
      "*****************\n",
      "\n",
      "Features:  Attack_second\n",
      "100    2002\n",
      "65     1939\n",
      "80     1936\n",
      "50     1816\n",
      "85     1717\n",
      "       ... \n",
      "22       43\n",
      "44       41\n",
      "42       41\n",
      "36       38\n",
      "97       37\n",
      "Name: Attack_second, Length: 111, dtype: int64\n",
      "\n",
      "*****************\n",
      "\n",
      "Features:  Defense_second\n",
      "70     2654\n",
      "50     2479\n",
      "60     2322\n",
      "80     2023\n",
      "90     1838\n",
      "       ... \n",
      "112      43\n",
      "23       43\n",
      "99       41\n",
      "56       40\n",
      "121      35\n",
      "Name: Defense_second, Length: 103, dtype: int64\n",
      "\n",
      "*****************\n",
      "\n",
      "Features:  Sp. Atk_second\n",
      "60     2541\n",
      "40     2442\n",
      "65     2282\n",
      "50     2017\n",
      "55     1852\n",
      "       ... \n",
      "175      45\n",
      "93       45\n",
      "116      43\n",
      "51       43\n",
      "108      39\n",
      "Name: Sp. Atk_second, Length: 104, dtype: int64\n",
      "\n",
      "*****************\n",
      "\n",
      "Features:  Sp. Def_second\n",
      "80     2562\n",
      "50     2464\n",
      "55     2305\n",
      "65     2267\n",
      "60     2161\n",
      "       ... \n",
      "126      46\n",
      "94       45\n",
      "23       43\n",
      "88       41\n",
      "36       38\n",
      "Name: Sp. Def_second, Length: 92, dtype: int64\n",
      "\n",
      "*****************\n",
      "\n",
      "Features:  Speed_second\n",
      "50     2321\n",
      "60     2107\n",
      "65     1873\n",
      "30     1843\n",
      "70     1759\n",
      "       ... \n",
      "118      47\n",
      "103      44\n",
      "79       43\n",
      "160      40\n",
      "127      36\n",
      "Name: Speed_second, Length: 108, dtype: int64\n",
      "\n",
      "*****************\n",
      "\n",
      "Features:  Generation_second\n",
      "5    8242\n",
      "3    8154\n",
      "1    8070\n",
      "4    6033\n",
      "2    5329\n",
      "6    4172\n",
      "Name: Generation_second, dtype: int64\n",
      "\n",
      "*****************\n",
      "\n",
      "Features:  Legendary_second\n",
      "False    36703\n",
      "True      3297\n",
      "Name: Legendary_second, dtype: int64\n",
      "\n",
      "*****************\n",
      "\n"
     ]
    }
   ],
   "source": [
    "for c in joined_data.columns:\n",
    "    print (\"Features: \", c)\n",
    "    print(joined_data[c].value_counts())\n",
    "    print(\"\\n*****************\\n\")"
   ]
  },
  {
   "cell_type": "markdown",
   "metadata": {},
   "source": [
    "# VERIFICO SE CI SONO DEI VALORI MANCANTI ALL'INTERNO DEL DATASET"
   ]
  },
  {
   "cell_type": "code",
   "execution_count": 22,
   "metadata": {},
   "outputs": [
    {
     "name": "stdout",
     "output_type": "stream",
     "text": [
      "<class 'pandas.core.frame.DataFrame'>\n",
      "RangeIndex: 40000 entries, 0 to 39999\n",
      "Data columns (total 26 columns):\n",
      " #   Column             Non-Null Count  Dtype \n",
      "---  ------             --------------  ----- \n",
      " 0   Winner             40000 non-null  int64 \n",
      " 1   First_pokemon      40000 non-null  int64 \n",
      " 2   Second_pokemon     40000 non-null  int64 \n",
      " 3   train              40000 non-null  int64 \n",
      " 4   Name               39955 non-null  object\n",
      " 5   Type 1             40000 non-null  object\n",
      " 6   Type 2             20736 non-null  object\n",
      " 7   HP                 40000 non-null  int64 \n",
      " 8   Attack             40000 non-null  int64 \n",
      " 9   Defense            40000 non-null  int64 \n",
      " 10  Sp. Atk            40000 non-null  int64 \n",
      " 11  Sp. Def            40000 non-null  int64 \n",
      " 12  Speed              40000 non-null  int64 \n",
      " 13  Generation         40000 non-null  int64 \n",
      " 14  Legendary          40000 non-null  bool  \n",
      " 15  Name_second        39960 non-null  object\n",
      " 16  Type 1_second      40000 non-null  object\n",
      " 17  Type 2_second      20817 non-null  object\n",
      " 18  HP_second          40000 non-null  int64 \n",
      " 19  Attack_second      40000 non-null  int64 \n",
      " 20  Defense_second     40000 non-null  int64 \n",
      " 21  Sp. Atk_second     40000 non-null  int64 \n",
      " 22  Sp. Def_second     40000 non-null  int64 \n",
      " 23  Speed_second       40000 non-null  int64 \n",
      " 24  Generation_second  40000 non-null  int64 \n",
      " 25  Legendary_second   40000 non-null  bool  \n",
      "dtypes: bool(2), int64(18), object(6)\n",
      "memory usage: 7.4+ MB\n"
     ]
    }
   ],
   "source": [
    "joined_data.info()"
   ]
  },
  {
   "cell_type": "markdown",
   "metadata": {},
   "source": [
    "# VALORI NULLI\n",
    "- Name\n",
    "- Name_second\n",
    "- Type 2 \n",
    "- Type 2_second"
   ]
  },
  {
   "cell_type": "code",
   "execution_count": 23,
   "metadata": {},
   "outputs": [
    {
     "name": "stdout",
     "output_type": "stream",
     "text": [
      "Winner                   0\n",
      "First_pokemon            0\n",
      "Second_pokemon           0\n",
      "train                    0\n",
      "Name                    45\n",
      "Type 1                   0\n",
      "Type 2               19264\n",
      "HP                       0\n",
      "Attack                   0\n",
      "Defense                  0\n",
      "Sp. Atk                  0\n",
      "Sp. Def                  0\n",
      "Speed                    0\n",
      "Generation               0\n",
      "Legendary                0\n",
      "Name_second             40\n",
      "Type 1_second            0\n",
      "Type 2_second        19183\n",
      "HP_second                0\n",
      "Attack_second            0\n",
      "Defense_second           0\n",
      "Sp. Atk_second           0\n",
      "Sp. Def_second           0\n",
      "Speed_second             0\n",
      "Generation_second        0\n",
      "Legendary_second         0\n",
      "dtype: int64\n"
     ]
    }
   ],
   "source": [
    "print(joined_data.isnull().sum())"
   ]
  },
  {
   "cell_type": "markdown",
   "metadata": {},
   "source": [
    "# Type2 ha molti valori mancanti!\n",
    "quasi la metà, potrei pensare di dropparla, ma dato che il tipo è una feature che dovrebbe essere rilevante nei Pokemon ai fini della sfida, portei pensare di mettere al posto del valore mancante di Type2 il valore di Type1 "
   ]
  },
  {
   "cell_type": "code",
   "execution_count": 24,
   "metadata": {},
   "outputs": [],
   "source": [
    "joined_data['Type 2'].fillna(joined_data['Type 1'],inplace=True)\n",
    "joined_data['Type 2_second'].fillna(joined_data['Type 1_second'],inplace=True)"
   ]
  },
  {
   "cell_type": "markdown",
   "metadata": {},
   "source": [
    "# \"NAME\"  DATO CHE E' UNICA SI PUO' DROPPARE"
   ]
  },
  {
   "cell_type": "code",
   "execution_count": 25,
   "metadata": {},
   "outputs": [
    {
     "name": "stdout",
     "output_type": "stream",
     "text": [
      "Winner                0\n",
      "First_pokemon         0\n",
      "Second_pokemon        0\n",
      "train                 0\n",
      "Name                 45\n",
      "Type 1                0\n",
      "Type 2                0\n",
      "HP                    0\n",
      "Attack                0\n",
      "Defense               0\n",
      "Sp. Atk               0\n",
      "Sp. Def               0\n",
      "Speed                 0\n",
      "Generation            0\n",
      "Legendary             0\n",
      "Name_second          40\n",
      "Type 1_second         0\n",
      "Type 2_second         0\n",
      "HP_second             0\n",
      "Attack_second         0\n",
      "Defense_second        0\n",
      "Sp. Atk_second        0\n",
      "Sp. Def_second        0\n",
      "Speed_second          0\n",
      "Generation_second     0\n",
      "Legendary_second      0\n",
      "dtype: int64\n"
     ]
    }
   ],
   "source": [
    "print(joined_data.isnull().sum())"
   ]
  },
  {
   "cell_type": "code",
   "execution_count": 26,
   "metadata": {},
   "outputs": [
    {
     "data": {
      "text/plain": [
       "800"
      ]
     },
     "execution_count": 26,
     "metadata": {},
     "output_type": "execute_result"
    }
   ],
   "source": [
    "len(pokemon['Name'].unique())"
   ]
  },
  {
   "cell_type": "code",
   "execution_count": 27,
   "metadata": {},
   "outputs": [],
   "source": [
    "toDrop = ['Name', 'Name_second']\n",
    "joined_data = joined_data.drop(toDrop, axis=1)"
   ]
  },
  {
   "cell_type": "markdown",
   "metadata": {},
   "source": [
    "### MOSTRO IL DATASET IN CUI HO DROPPATO LA FEATURE 'NAME' E HO INSERITO DENTRO AL TYPE2 IL VALORE DEL TYPE1 QUANDO IL TYPE2 MANCAVA"
   ]
  },
  {
   "cell_type": "code",
   "execution_count": 28,
   "metadata": {},
   "outputs": [
    {
     "data": {
      "text/html": [
       "<div>\n",
       "<style scoped>\n",
       "    .dataframe tbody tr th:only-of-type {\n",
       "        vertical-align: middle;\n",
       "    }\n",
       "\n",
       "    .dataframe tbody tr th {\n",
       "        vertical-align: top;\n",
       "    }\n",
       "\n",
       "    .dataframe thead th {\n",
       "        text-align: right;\n",
       "    }\n",
       "</style>\n",
       "<table border=\"1\" class=\"dataframe\">\n",
       "  <thead>\n",
       "    <tr style=\"text-align: right;\">\n",
       "      <th></th>\n",
       "      <th>Winner</th>\n",
       "      <th>First_pokemon</th>\n",
       "      <th>Second_pokemon</th>\n",
       "      <th>train</th>\n",
       "      <th>Type 1</th>\n",
       "      <th>Type 2</th>\n",
       "      <th>HP</th>\n",
       "      <th>Attack</th>\n",
       "      <th>Defense</th>\n",
       "      <th>Sp. Atk</th>\n",
       "      <th>...</th>\n",
       "      <th>Type 1_second</th>\n",
       "      <th>Type 2_second</th>\n",
       "      <th>HP_second</th>\n",
       "      <th>Attack_second</th>\n",
       "      <th>Defense_second</th>\n",
       "      <th>Sp. Atk_second</th>\n",
       "      <th>Sp. Def_second</th>\n",
       "      <th>Speed_second</th>\n",
       "      <th>Generation_second</th>\n",
       "      <th>Legendary_second</th>\n",
       "    </tr>\n",
       "  </thead>\n",
       "  <tbody>\n",
       "    <tr>\n",
       "      <th>0</th>\n",
       "      <td>1</td>\n",
       "      <td>124</td>\n",
       "      <td>221</td>\n",
       "      <td>1</td>\n",
       "      <td>Normal</td>\n",
       "      <td>Normal</td>\n",
       "      <td>105</td>\n",
       "      <td>95</td>\n",
       "      <td>80</td>\n",
       "      <td>40</td>\n",
       "      <td>...</td>\n",
       "      <td>Bug</td>\n",
       "      <td>Steel</td>\n",
       "      <td>75</td>\n",
       "      <td>90</td>\n",
       "      <td>140</td>\n",
       "      <td>60</td>\n",
       "      <td>60</td>\n",
       "      <td>40</td>\n",
       "      <td>2</td>\n",
       "      <td>False</td>\n",
       "    </tr>\n",
       "    <tr>\n",
       "      <th>1</th>\n",
       "      <td>0</td>\n",
       "      <td>323</td>\n",
       "      <td>1</td>\n",
       "      <td>1</td>\n",
       "      <td>Normal</td>\n",
       "      <td>Fairy</td>\n",
       "      <td>50</td>\n",
       "      <td>20</td>\n",
       "      <td>40</td>\n",
       "      <td>20</td>\n",
       "      <td>...</td>\n",
       "      <td>Grass</td>\n",
       "      <td>Poison</td>\n",
       "      <td>45</td>\n",
       "      <td>49</td>\n",
       "      <td>49</td>\n",
       "      <td>65</td>\n",
       "      <td>65</td>\n",
       "      <td>45</td>\n",
       "      <td>1</td>\n",
       "      <td>False</td>\n",
       "    </tr>\n",
       "    <tr>\n",
       "      <th>2</th>\n",
       "      <td>1</td>\n",
       "      <td>58</td>\n",
       "      <td>459</td>\n",
       "      <td>1</td>\n",
       "      <td>Normal</td>\n",
       "      <td>Normal</td>\n",
       "      <td>40</td>\n",
       "      <td>45</td>\n",
       "      <td>35</td>\n",
       "      <td>40</td>\n",
       "      <td>...</td>\n",
       "      <td>Bug</td>\n",
       "      <td>Grass</td>\n",
       "      <td>60</td>\n",
       "      <td>59</td>\n",
       "      <td>85</td>\n",
       "      <td>79</td>\n",
       "      <td>105</td>\n",
       "      <td>36</td>\n",
       "      <td>4</td>\n",
       "      <td>False</td>\n",
       "    </tr>\n",
       "    <tr>\n",
       "      <th>3</th>\n",
       "      <td>0</td>\n",
       "      <td>180</td>\n",
       "      <td>491</td>\n",
       "      <td>1</td>\n",
       "      <td>Bug</td>\n",
       "      <td>Flying</td>\n",
       "      <td>40</td>\n",
       "      <td>20</td>\n",
       "      <td>30</td>\n",
       "      <td>40</td>\n",
       "      <td>...</td>\n",
       "      <td>Ghost</td>\n",
       "      <td>Dark</td>\n",
       "      <td>50</td>\n",
       "      <td>92</td>\n",
       "      <td>108</td>\n",
       "      <td>92</td>\n",
       "      <td>108</td>\n",
       "      <td>35</td>\n",
       "      <td>4</td>\n",
       "      <td>False</td>\n",
       "    </tr>\n",
       "    <tr>\n",
       "      <th>4</th>\n",
       "      <td>1</td>\n",
       "      <td>799</td>\n",
       "      <td>559</td>\n",
       "      <td>1</td>\n",
       "      <td>Psychic</td>\n",
       "      <td>Dark</td>\n",
       "      <td>80</td>\n",
       "      <td>160</td>\n",
       "      <td>60</td>\n",
       "      <td>170</td>\n",
       "      <td>...</td>\n",
       "      <td>Fire</td>\n",
       "      <td>Fighting</td>\n",
       "      <td>90</td>\n",
       "      <td>93</td>\n",
       "      <td>55</td>\n",
       "      <td>70</td>\n",
       "      <td>55</td>\n",
       "      <td>55</td>\n",
       "      <td>5</td>\n",
       "      <td>False</td>\n",
       "    </tr>\n",
       "  </tbody>\n",
       "</table>\n",
       "<p>5 rows × 24 columns</p>\n",
       "</div>"
      ],
      "text/plain": [
       "   Winner  First_pokemon  Second_pokemon  train   Type 1  Type 2   HP  Attack  \\\n",
       "0       1            124             221      1   Normal  Normal  105      95   \n",
       "1       0            323               1      1   Normal   Fairy   50      20   \n",
       "2       1             58             459      1   Normal  Normal   40      45   \n",
       "3       0            180             491      1      Bug  Flying   40      20   \n",
       "4       1            799             559      1  Psychic    Dark   80     160   \n",
       "\n",
       "   Defense  Sp. Atk  ...  Type 1_second  Type 2_second  HP_second  \\\n",
       "0       80       40  ...            Bug          Steel         75   \n",
       "1       40       20  ...          Grass         Poison         45   \n",
       "2       35       40  ...            Bug          Grass         60   \n",
       "3       30       40  ...          Ghost           Dark         50   \n",
       "4       60      170  ...           Fire       Fighting         90   \n",
       "\n",
       "   Attack_second Defense_second Sp. Atk_second  Sp. Def_second  Speed_second  \\\n",
       "0             90            140             60              60            40   \n",
       "1             49             49             65              65            45   \n",
       "2             59             85             79             105            36   \n",
       "3             92            108             92             108            35   \n",
       "4             93             55             70              55            55   \n",
       "\n",
       "   Generation_second  Legendary_second  \n",
       "0                  2             False  \n",
       "1                  1             False  \n",
       "2                  4             False  \n",
       "3                  4             False  \n",
       "4                  5             False  \n",
       "\n",
       "[5 rows x 24 columns]"
      ]
     },
     "execution_count": 28,
     "metadata": {},
     "output_type": "execute_result"
    }
   ],
   "source": [
    "joined_data.head()"
   ]
  },
  {
   "cell_type": "markdown",
   "metadata": {},
   "source": [
    "##  Encoding: i modelli ragionano in termini di NUMERI e non di stringhe. \n",
    "## Per questo motivo, bisogna convertire i campi object/bool in numeri."
   ]
  },
  {
   "cell_type": "code",
   "execution_count": 30,
   "metadata": {},
   "outputs": [],
   "source": [
    "# modifico alcuni nomi delle feature per comodità"
   ]
  },
  {
   "cell_type": "code",
   "execution_count": 31,
   "metadata": {},
   "outputs": [],
   "source": [
    "joined_data.rename(columns={'Type 2':'Type2'},inplace=True)\n",
    "joined_data.rename(columns={'Type 1':'Type1'},inplace=True)"
   ]
  },
  {
   "cell_type": "code",
   "execution_count": 32,
   "metadata": {},
   "outputs": [],
   "source": [
    "joined_data.rename(columns={'Type 1_second':'Type1_second'},inplace=True)\n",
    "joined_data.rename(columns={'Type 2_second':'Type2_second'},inplace=True)\n",
    "joined_data.rename(columns={'Sp. Atk':'Sp_Atk'},inplace=True)\n",
    "joined_data.rename(columns={'Sp. Def':'Sp_Def'},inplace=True)\n",
    "joined_data.rename(columns={'Sp. Atk_second':'Sp_Atk_second'},inplace=True)\n",
    "joined_data.rename(columns={'Sp. Def_second':'Sp_Def_second'},inplace=True)"
   ]
  },
  {
   "cell_type": "code",
   "execution_count": 33,
   "metadata": {},
   "outputs": [
    {
     "data": {
      "text/plain": [
       "Winner                int64\n",
       "First_pokemon         int64\n",
       "Second_pokemon        int64\n",
       "train                 int64\n",
       "Type1                object\n",
       "Type2                object\n",
       "HP                    int64\n",
       "Attack                int64\n",
       "Defense               int64\n",
       "Sp_Atk                int64\n",
       "Sp_Def                int64\n",
       "Speed                 int64\n",
       "Generation            int64\n",
       "Legendary              bool\n",
       "Type1_second         object\n",
       "Type2_second         object\n",
       "HP_second             int64\n",
       "Attack_second         int64\n",
       "Defense_second        int64\n",
       "Sp_Atk_second         int64\n",
       "Sp_Def_second         int64\n",
       "Speed_second          int64\n",
       "Generation_second     int64\n",
       "Legendary_second       bool\n",
       "dtype: object"
      ]
     },
     "execution_count": 33,
     "metadata": {},
     "output_type": "execute_result"
    }
   ],
   "source": [
    "joined_data.dtypes"
   ]
  },
  {
   "cell_type": "markdown",
   "metadata": {},
   "source": [
    "## i tipi da convertire sono:\n",
    "- Type1\n",
    "- Type2\n",
    "- Type1_second\n",
    "- Type2_second\n",
    "- Legendary\n",
    "- Legendary_second\n"
   ]
  },
  {
   "cell_type": "code",
   "execution_count": 34,
   "metadata": {},
   "outputs": [
    {
     "data": {
      "text/html": [
       "<div>\n",
       "<style scoped>\n",
       "    .dataframe tbody tr th:only-of-type {\n",
       "        vertical-align: middle;\n",
       "    }\n",
       "\n",
       "    .dataframe tbody tr th {\n",
       "        vertical-align: top;\n",
       "    }\n",
       "\n",
       "    .dataframe thead th {\n",
       "        text-align: right;\n",
       "    }\n",
       "</style>\n",
       "<table border=\"1\" class=\"dataframe\">\n",
       "  <thead>\n",
       "    <tr style=\"text-align: right;\">\n",
       "      <th></th>\n",
       "      <th>Winner</th>\n",
       "      <th>First_pokemon</th>\n",
       "      <th>Second_pokemon</th>\n",
       "      <th>train</th>\n",
       "      <th>Type1</th>\n",
       "      <th>Type2</th>\n",
       "      <th>HP</th>\n",
       "      <th>Attack</th>\n",
       "      <th>Defense</th>\n",
       "      <th>Sp_Atk</th>\n",
       "      <th>...</th>\n",
       "      <th>Type1_second</th>\n",
       "      <th>Type2_second</th>\n",
       "      <th>HP_second</th>\n",
       "      <th>Attack_second</th>\n",
       "      <th>Defense_second</th>\n",
       "      <th>Sp_Atk_second</th>\n",
       "      <th>Sp_Def_second</th>\n",
       "      <th>Speed_second</th>\n",
       "      <th>Generation_second</th>\n",
       "      <th>Legendary_second</th>\n",
       "    </tr>\n",
       "  </thead>\n",
       "  <tbody>\n",
       "    <tr>\n",
       "      <th>0</th>\n",
       "      <td>1</td>\n",
       "      <td>124</td>\n",
       "      <td>221</td>\n",
       "      <td>1</td>\n",
       "      <td>12</td>\n",
       "      <td>12</td>\n",
       "      <td>105</td>\n",
       "      <td>95</td>\n",
       "      <td>80</td>\n",
       "      <td>40</td>\n",
       "      <td>...</td>\n",
       "      <td>0</td>\n",
       "      <td>16</td>\n",
       "      <td>75</td>\n",
       "      <td>90</td>\n",
       "      <td>140</td>\n",
       "      <td>60</td>\n",
       "      <td>60</td>\n",
       "      <td>40</td>\n",
       "      <td>2</td>\n",
       "      <td>0</td>\n",
       "    </tr>\n",
       "    <tr>\n",
       "      <th>1</th>\n",
       "      <td>0</td>\n",
       "      <td>323</td>\n",
       "      <td>1</td>\n",
       "      <td>1</td>\n",
       "      <td>12</td>\n",
       "      <td>4</td>\n",
       "      <td>50</td>\n",
       "      <td>20</td>\n",
       "      <td>40</td>\n",
       "      <td>20</td>\n",
       "      <td>...</td>\n",
       "      <td>9</td>\n",
       "      <td>13</td>\n",
       "      <td>45</td>\n",
       "      <td>49</td>\n",
       "      <td>49</td>\n",
       "      <td>65</td>\n",
       "      <td>65</td>\n",
       "      <td>45</td>\n",
       "      <td>1</td>\n",
       "      <td>0</td>\n",
       "    </tr>\n",
       "    <tr>\n",
       "      <th>2</th>\n",
       "      <td>1</td>\n",
       "      <td>58</td>\n",
       "      <td>459</td>\n",
       "      <td>1</td>\n",
       "      <td>12</td>\n",
       "      <td>12</td>\n",
       "      <td>40</td>\n",
       "      <td>45</td>\n",
       "      <td>35</td>\n",
       "      <td>40</td>\n",
       "      <td>...</td>\n",
       "      <td>0</td>\n",
       "      <td>9</td>\n",
       "      <td>60</td>\n",
       "      <td>59</td>\n",
       "      <td>85</td>\n",
       "      <td>79</td>\n",
       "      <td>105</td>\n",
       "      <td>36</td>\n",
       "      <td>4</td>\n",
       "      <td>0</td>\n",
       "    </tr>\n",
       "    <tr>\n",
       "      <th>3</th>\n",
       "      <td>0</td>\n",
       "      <td>180</td>\n",
       "      <td>491</td>\n",
       "      <td>1</td>\n",
       "      <td>0</td>\n",
       "      <td>7</td>\n",
       "      <td>40</td>\n",
       "      <td>20</td>\n",
       "      <td>30</td>\n",
       "      <td>40</td>\n",
       "      <td>...</td>\n",
       "      <td>8</td>\n",
       "      <td>1</td>\n",
       "      <td>50</td>\n",
       "      <td>92</td>\n",
       "      <td>108</td>\n",
       "      <td>92</td>\n",
       "      <td>108</td>\n",
       "      <td>35</td>\n",
       "      <td>4</td>\n",
       "      <td>0</td>\n",
       "    </tr>\n",
       "    <tr>\n",
       "      <th>4</th>\n",
       "      <td>1</td>\n",
       "      <td>799</td>\n",
       "      <td>559</td>\n",
       "      <td>1</td>\n",
       "      <td>14</td>\n",
       "      <td>1</td>\n",
       "      <td>80</td>\n",
       "      <td>160</td>\n",
       "      <td>60</td>\n",
       "      <td>170</td>\n",
       "      <td>...</td>\n",
       "      <td>6</td>\n",
       "      <td>5</td>\n",
       "      <td>90</td>\n",
       "      <td>93</td>\n",
       "      <td>55</td>\n",
       "      <td>70</td>\n",
       "      <td>55</td>\n",
       "      <td>55</td>\n",
       "      <td>5</td>\n",
       "      <td>0</td>\n",
       "    </tr>\n",
       "  </tbody>\n",
       "</table>\n",
       "<p>5 rows × 24 columns</p>\n",
       "</div>"
      ],
      "text/plain": [
       "   Winner  First_pokemon  Second_pokemon  train  Type1  Type2   HP  Attack  \\\n",
       "0       1            124             221      1     12     12  105      95   \n",
       "1       0            323               1      1     12      4   50      20   \n",
       "2       1             58             459      1     12     12   40      45   \n",
       "3       0            180             491      1      0      7   40      20   \n",
       "4       1            799             559      1     14      1   80     160   \n",
       "\n",
       "   Defense  Sp_Atk  ...  Type1_second  Type2_second  HP_second  Attack_second  \\\n",
       "0       80      40  ...             0            16         75             90   \n",
       "1       40      20  ...             9            13         45             49   \n",
       "2       35      40  ...             0             9         60             59   \n",
       "3       30      40  ...             8             1         50             92   \n",
       "4       60     170  ...             6             5         90             93   \n",
       "\n",
       "   Defense_second  Sp_Atk_second  Sp_Def_second  Speed_second  \\\n",
       "0             140             60             60            40   \n",
       "1              49             65             65            45   \n",
       "2              85             79            105            36   \n",
       "3             108             92            108            35   \n",
       "4              55             70             55            55   \n",
       "\n",
       "   Generation_second  Legendary_second  \n",
       "0                  2                 0  \n",
       "1                  1                 0  \n",
       "2                  4                 0  \n",
       "3                  4                 0  \n",
       "4                  5                 0  \n",
       "\n",
       "[5 rows x 24 columns]"
      ]
     },
     "execution_count": 34,
     "metadata": {},
     "output_type": "execute_result"
    }
   ],
   "source": [
    "from sklearn.preprocessing import LabelEncoder\n",
    "Feature = [\"Type1\", \"Type2\", \"Type1_second\",\"Type2_second\", \"Legendary\",\"Legendary_second\"]\n",
    "labelEncoder_X = LabelEncoder()\n",
    "for element in Feature:\n",
    "    joined_data[element] = labelEncoder_X.fit_transform(joined_data[element])\n",
    "    \n",
    "joined_data.head()"
   ]
  },
  {
   "cell_type": "markdown",
   "metadata": {},
   "source": [
    "# RIDIVIDO IL DATASET TOTALE IN TRAIN E TEST SULLA BASE DELLA DIVISIONE EFFETTUATA NEL PREPARATION"
   ]
  },
  {
   "cell_type": "code",
   "execution_count": 36,
   "metadata": {},
   "outputs": [],
   "source": [
    "train= joined_data[joined_data.train == 1].drop(\"train\", axis=1)\n",
    "test= joined_data[joined_data.train == 0].drop(\"train\", axis=1)"
   ]
  },
  {
   "cell_type": "markdown",
   "metadata": {},
   "source": [
    "### SEPARO LA LABEL DALLE FEATURE"
   ]
  },
  {
   "cell_type": "code",
   "execution_count": 37,
   "metadata": {},
   "outputs": [],
   "source": [
    "y_train = train['Winner']           #LABEL CHE dobbiamo predirre\n",
    "X_train = train.drop(['Winner'], axis=1)      #tutto il dataframe tranne la label\n",
    "\n",
    "y_test = test['Winner']           #LABEL che dobbiamo predirre\n",
    "X_test = test.drop(['Winner'], axis=1)      #tutto il dataframe tranne la label\n"
   ]
  },
  {
   "cell_type": "markdown",
   "metadata": {},
   "source": [
    "## Mi stampo un grafico che mostra quanti come sono distribuiti i valori per Winner nel dataset "
   ]
  },
  {
   "cell_type": "code",
   "execution_count": null,
   "metadata": {},
   "outputs": [],
   "source": [
    "sns.countplot(x=train['Winner'])"
   ]
  },
  {
   "cell_type": "code",
   "execution_count": null,
   "metadata": {},
   "outputs": [],
   "source": [
    "sns.countplot(x=test['Winner'])"
   ]
  },
  {
   "cell_type": "markdown",
   "metadata": {},
   "source": [
    "#### Notiamo che i valori sono distribuiti in maniera abbastanza omogenea sia nel dataset di train sia nel dataset di test"
   ]
  },
  {
   "cell_type": "code",
   "execution_count": null,
   "metadata": {},
   "outputs": [],
   "source": [
    "sns.countplot(x=train[\"Generation\"],hue=train[\"Winner\"]);"
   ]
  },
  {
   "cell_type": "markdown",
   "metadata": {},
   "source": [
    "#### La feature Generation sembrerebbe superflua."
   ]
  },
  {
   "cell_type": "code",
   "execution_count": null,
   "metadata": {},
   "outputs": [],
   "source": [
    "plt.figure(figsize=(30,30))\n",
    "sns.countplot(x=train[\"Speed\"],hue=train[\"Winner\"]);"
   ]
  },
  {
   "cell_type": "markdown",
   "metadata": {},
   "source": [
    "### Dal grafico di sopra possiamo notare come   i pokemon che hanno velocità più alta tendono a vincere. \n",
    "## Definisco quindi una nuova Feature che mi rappresenta la differenza fra le Stats Velocità dei due Pokemon"
   ]
  },
  {
   "cell_type": "code",
   "execution_count": null,
   "metadata": {},
   "outputs": [],
   "source": [
    "train['diff_Speed']=train['Speed']-train['Speed_second']\n",
    "test['diff_Speed']=test['Speed']-test['Speed_second']"
   ]
  },
  {
   "cell_type": "code",
   "execution_count": null,
   "metadata": {},
   "outputs": [],
   "source": [
    "plt.figure(figsize=(80,100))\n",
    "sns.countplot(x=train[\"diff_Speed\"],hue=train[\"Winner\"]);"
   ]
  },
  {
   "cell_type": "markdown",
   "metadata": {},
   "source": [
    "### DA QUESTO GRAFICO RISULTA MOLTO PIU' EVIDENTE CIO' CHE HO AFFERMATO PRECEDENTEMENTE\n",
    "OVVERO CHE I POKEMON CHE POSSIEDONO VELOCITA' PIU ALTE TENDONO A VINCERE. \n",
    "- INFATTI DIFFERENZA POSITIVA VUOL DIRE CHE IL PRIMO E' PIU' VELOCE DEL SECONDO -> VINCE IL PRIMO, E INFATTI WINNER=1\n",
    "- INVECE DIFFERENZA NEGATIVA VUOL DIRE CHE IL SECONDO E' PIU' VELOCE DEL PRIMO -> VINCE IL SECONDO, E INFATTI WINNER=0"
   ]
  },
  {
   "cell_type": "code",
   "execution_count": null,
   "metadata": {},
   "outputs": [],
   "source": [
    "plt.figure(figsize=(200,50))\n",
    "sns.countplot(x=train[\"HP\"],hue=train[\"Winner\"]);"
   ]
  },
  {
   "cell_type": "markdown",
   "metadata": {},
   "source": [
    "DA QUESTO GRAFICO SEMBREREBBE CHE HP POSSA ESSERE UTILE, PER CAPIRE MEGLIO L'ANDAMENTO DEFINISCO ANCHE PER QUESTO UNA NUOVA FEATURE "
   ]
  },
  {
   "cell_type": "code",
   "execution_count": null,
   "metadata": {},
   "outputs": [],
   "source": [
    "train['diff_HP']=train['HP']-train['HP_second']\n",
    "test['diff_HP']= test['HP']- test['HP_second']"
   ]
  },
  {
   "cell_type": "code",
   "execution_count": null,
   "metadata": {},
   "outputs": [],
   "source": [
    "plt.figure(figsize=(200,50))\n",
    "sns.countplot(x=train[\"diff_HP\"],hue=train[\"Winner\"]);"
   ]
  },
  {
   "cell_type": "markdown",
   "metadata": {},
   "source": [
    "DA QUESTO GRAFICO SEMBREREBBE CHE HP POSSA ESSERE UTILE, anche se risulta che con differenza positiva bassa continua a vincere il secondo "
   ]
  },
  {
   "cell_type": "code",
   "execution_count": null,
   "metadata": {},
   "outputs": [],
   "source": [
    "plt.figure(figsize=(200,50))\n",
    "sns.countplot(x=train[\"Attack\"],hue=train[\"Winner\"]);"
   ]
  },
  {
   "cell_type": "markdown",
   "metadata": {},
   "source": [
    "QUESTO GRAFICO COSI' NON SEMBRA ESSERE MOLTO RILEVANTE QUINDI PROVIAMO A VEDERE SE DEFINENDO UNA FEATURE CHE MI RAPPRESENTA LA DIFFERENZA FRA I DUE ATTACCHI OTTENGO UN QUALCOSA DI PIU' INTERESSANTE"
   ]
  },
  {
   "cell_type": "code",
   "execution_count": null,
   "metadata": {},
   "outputs": [],
   "source": [
    "train['diff_Attack']=train['Attack']-train['Attack_second']\n",
    "test['diff_Attack']=test['Attack']-test['Attack_second']\n"
   ]
  },
  {
   "cell_type": "code",
   "execution_count": null,
   "metadata": {},
   "outputs": [],
   "source": [
    "plt.figure(figsize=(200,50))\n",
    "sns.countplot(x=train[\"diff_Attack\"],hue=train[\"Winner\"]);"
   ]
  },
  {
   "cell_type": "markdown",
   "metadata": {},
   "source": [
    "DIFFERENZA NEGATIVA TENDEONO A VINCERE MAGGIORMENTE IL POKEMON 2 DIFFERENZA POSITIVA VICEVERSA. \n",
    "QUESTA FEATURE RISULTA ESSERE ABBASTANZA VALIDA. \n",
    "ATTACCO 1 MAGGIORE ATTACCO2--> vince 1\n",
    "ATTACCO 2 MAGGIORE ATTACCO1--> vince2"
   ]
  },
  {
   "cell_type": "code",
   "execution_count": null,
   "metadata": {},
   "outputs": [],
   "source": [
    "plt.figure(figsize=(200,50))\n",
    "sns.countplot(x=train[\"Defense\"],hue=train[\"Winner\"]);"
   ]
  },
  {
   "cell_type": "markdown",
   "metadata": {},
   "source": [
    "Anche qui con differenza negativa tende a vincere il secondo mentre con differenza positiva tende a vincere il primo. \n",
    "Non si vede in maniera eclatante come si era visto per la feature different speed"
   ]
  },
  {
   "cell_type": "code",
   "execution_count": null,
   "metadata": {},
   "outputs": [],
   "source": [
    "train['diff_Defense']=train['Defense']-train['Defense_second']\n",
    "test['diff_Defense']=test['Defense']-test['Defense_second']"
   ]
  },
  {
   "cell_type": "code",
   "execution_count": null,
   "metadata": {},
   "outputs": [],
   "source": [
    "plt.figure(figsize=(200,50))\n",
    "sns.countplot(x=train[\"diff_Defense\"],hue=train[\"Winner\"]);"
   ]
  },
  {
   "cell_type": "markdown",
   "metadata": {},
   "source": [
    "DA QUESTO GRAFICO NON EMERGONO COSE RILEVANTI I VALORI DI VINCITA DEL PRIMO E DEL SECONDO SONO STATISTICAMENTE PARAGONABILI QUINDI PROBABILMENTE QUESTA FEATURE PUO' ESSERE DROPPATA"
   ]
  },
  {
   "cell_type": "code",
   "execution_count": null,
   "metadata": {},
   "outputs": [],
   "source": [
    "plt.figure(figsize=(200,50))\n",
    "sns.countplot(x=train[\"Sp_Atk\"],hue=train[\"Winner\"]);"
   ]
  },
  {
   "cell_type": "code",
   "execution_count": null,
   "metadata": {},
   "outputs": [],
   "source": [
    "\n",
    "train['diff_Sp_Atk']=train['Sp_Atk']-train['Sp_Atk_second']\n",
    "test['diff_Sp_Atk']=test['Sp_Atk']-test['Sp_Atk_second']"
   ]
  },
  {
   "cell_type": "code",
   "execution_count": null,
   "metadata": {},
   "outputs": [],
   "source": [
    "sns.countplot(x=train[\"diff_Sp_Atk\"],hue=train[\"Winner\"]);"
   ]
  },
  {
   "cell_type": "code",
   "execution_count": null,
   "metadata": {},
   "outputs": [],
   "source": []
  },
  {
   "cell_type": "code",
   "execution_count": null,
   "metadata": {},
   "outputs": [],
   "source": []
  },
  {
   "cell_type": "code",
   "execution_count": null,
   "metadata": {},
   "outputs": [],
   "source": [
    "sns.countplot(x=train[\"Sp_Def\"],hue=train[\"Winner\"]);"
   ]
  },
  {
   "cell_type": "code",
   "execution_count": null,
   "metadata": {},
   "outputs": [],
   "source": [
    "train['diff_Sp_Def']=train['Sp_Def']-train['Sp_Def_second']\n",
    "test['diff_Sp_Def']=test['Sp_Def']-test['Sp_Def_second']"
   ]
  },
  {
   "cell_type": "code",
   "execution_count": null,
   "metadata": {},
   "outputs": [],
   "source": []
  },
  {
   "cell_type": "code",
   "execution_count": null,
   "metadata": {},
   "outputs": [],
   "source": [
    "sns.countplot(x=train[\"diff_Sp_Def\"],hue=train[\"Winner\"]);"
   ]
  },
  {
   "cell_type": "code",
   "execution_count": null,
   "metadata": {},
   "outputs": [],
   "source": [
    "sns.countplot(x=train[\"Legendary\"],hue=train[\"Winner\"]);"
   ]
  },
  {
   "cell_type": "markdown",
   "metadata": {},
   "source": [
    "La feature Legendary invece ci mostra che i legendari sono pochi e quelli che ci sono se attaccano per primi tendono a vincere, mentre per i non legendari sembrerebbe che siano molti."
   ]
  },
  {
   "cell_type": "code",
   "execution_count": null,
   "metadata": {},
   "outputs": [],
   "source": [
    "sns.countplot(x=train[\"Legendary_second\"],hue=train[\"Winner\"]);"
   ]
  },
  {
   "cell_type": "markdown",
   "metadata": {},
   "source": [
    "# Mi stampo una heatmap che mi guarda quale sia la correlazione che ho fra le feature:\n",
    "- valore negativo -> relazione di proporzionalità inversa\n",
    "- valore positivo -> relazione di proporzionalità diretta\n",
    "- valore pari a zero-> no correlazione (feature può essere eliminata)"
   ]
  },
  {
   "cell_type": "code",
   "execution_count": null,
   "metadata": {},
   "outputs": [],
   "source": [
    "plt.figure(figsize=(18,10))\n",
    "correlation = train.corr()\n",
    "sns.heatmap(correlation, annot = True, linewidth = 2)"
   ]
  },
  {
   "cell_type": "markdown",
   "metadata": {},
   "source": [
    "Dalla heatmap vediamo che le seguenti feature non sono utili per il nostro scopo:\n",
    "- First_Pokemon\n",
    "- Second_Pokemon\n",
    "- Defense \n",
    "- diff_Sp_Def --> come avevamo visto dai countplot \n",
    "- Generation\n",
    "- Defense_second\n",
    "- Generation_second\n",
    "- Type1 \n",
    "- Type2\n",
    "\n",
    "\n",
    "Quindi si possono droppare"
   ]
  },
  {
   "cell_type": "code",
   "execution_count": null,
   "metadata": {},
   "outputs": [],
   "source": [
    "toDrop = ['First_pokemon','Second_pokemon', 'Defense','diff_Sp_Def' ,'Generation', 'Defense_second', 'Generation_second']\n",
    "train = train.drop(toDrop, axis=1)"
   ]
  },
  {
   "cell_type": "code",
   "execution_count": null,
   "metadata": {},
   "outputs": [],
   "source": [
    "toDrop = ['First_pokemon','Second_pokemon',  'Defense','diff_Sp_Def' ,'Generation',  'Defense_second', 'Generation_second']\n",
    "test = test.drop(toDrop, axis=1)"
   ]
  },
  {
   "cell_type": "code",
   "execution_count": null,
   "metadata": {},
   "outputs": [],
   "source": [
    "decisionTree = DecisionTreeClassifier()\n",
    "logisticRegression = LogisticRegression(random_state=0, max_iter = 10000)\n",
    "randomForest = RandomForestClassifier()\n",
    "\n",
    "models = [decisionTree, logisticRegression, randomForest]\n",
    "score = []\n",
    "\n",
    "for model in models:\n",
    "    model.fit(X_train, y_train)\n",
    "    y_pred = model.predict(X_test)\n",
    "    acc = round(accuracy_score(y_pred, y_test) * 100, 2)\n",
    "    score.append(acc)\n",
    "    print(model)\n",
    "    print(acc)\n",
    "    plot_confusion_matrix(model, X_test, y_test, values_format='n', display_labels=['No','Yes']) \n",
    "    plt.show() #sx predizioni giuste, dx predizioni sbagliate\n",
    "    print(classification_report(y_test,y_pred))"
   ]
  },
  {
   "cell_type": "code",
   "execution_count": null,
   "metadata": {},
   "outputs": [],
   "source": [
    "models = pd.DataFrame({\n",
    "\n",
    "    'Model': ['Decision Tree','Logistic Regression', 'Random Forest'],\n",
    "\n",
    "    'Score': score})\n",
    "    \n",
    "models.sort_values(by='Score', ascending=False)"
   ]
  }
 ],
 "metadata": {
  "kernelspec": {
   "display_name": "Python 3",
   "language": "python",
   "name": "python3"
  },
  "language_info": {
   "codemirror_mode": {
    "name": "ipython",
    "version": 3
   },
   "file_extension": ".py",
   "mimetype": "text/x-python",
   "name": "python",
   "nbconvert_exporter": "python",
   "pygments_lexer": "ipython3",
   "version": "3.8.5"
  }
 },
 "nbformat": 4,
 "nbformat_minor": 4
}
